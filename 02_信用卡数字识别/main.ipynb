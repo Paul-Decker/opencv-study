{
 "cells": [
  {
   "cell_type": "markdown",
   "metadata": {},
   "source": [
    "### 信用卡数字识别"
   ]
  },
  {
   "cell_type": "markdown",
   "metadata": {},
   "source": [
    "基于模板匹配实现：\n",
    "1. 得到数字字体的模板\n",
    "2. 取出数字（边缘/轮廓检测）\n",
    "3. 框选数字（外轮廓的外接矩形）\n",
    "4. 将尺寸修改成大小一致\n",
    "5. 比对模板"
   ]
  },
  {
   "cell_type": "code",
   "execution_count": 19,
   "metadata": {},
   "outputs": [],
   "source": [
    "# 导入工具包\n",
    "from imutils import contours\n",
    "import numpy as np\n",
    "import argparse\n",
    "import cv2\n",
    "import myutils"
   ]
  },
  {
   "cell_type": "code",
   "execution_count": 20,
   "metadata": {},
   "outputs": [],
   "source": [
    "# 参数设置\n",
    "args = dict()\n",
    "args['image'] = 'images/credit_card_01.png'\n",
    "args['template'] = 'ocr_a_reference.png'\n",
    "roi_size = (57, 88)"
   ]
  },
  {
   "cell_type": "code",
   "execution_count": 21,
   "metadata": {},
   "outputs": [],
   "source": [
    "# 指定信用卡类型\n",
    "FIRST_NUMBER = {\n",
    "\t\"3\": \"American Express\",\n",
    "\t\"4\": \"Visa\",\n",
    "\t\"5\": \"MasterCard\",\n",
    "\t\"6\": \"Discover Card\"\n",
    "}\n",
    "# 绘图展示\n",
    "def cv_show(name, img):\n",
    "\tcv2.imshow(name, img)\n",
    "\tcv2.waitKey(0)\n",
    "\tcv2.destroyAllWindows()"
   ]
  },
  {
   "cell_type": "markdown",
   "metadata": {},
   "source": [
    "#### 处理模板"
   ]
  },
  {
   "cell_type": "markdown",
   "metadata": {},
   "source": [
    "图像预处理"
   ]
  },
  {
   "cell_type": "code",
   "execution_count": 22,
   "metadata": {},
   "outputs": [],
   "source": [
    "# 读取一个模板图像\n",
    "img = cv2.imread(args[\"template\"])\n",
    "# cv_show('img', img)\n",
    "# 灰度图\n",
    "ref = cv2.cvtColor(img, cv2.COLOR_BGR2GRAY)\n",
    "# cv_show('ref',ref)\n",
    "# 二值图像\n",
    "ref = cv2.threshold(ref, 10, 255, cv2.THRESH_BINARY_INV)[1]\n",
    "# cv_show('ref',ref)"
   ]
  },
  {
   "cell_type": "markdown",
   "metadata": {},
   "source": [
    "轮廓检测"
   ]
  },
  {
   "cell_type": "code",
   "execution_count": 23,
   "metadata": {},
   "outputs": [
    {
     "data": {
      "text/plain": [
       "array([[[255, 255, 255],\n",
       "        [255, 255, 255],\n",
       "        [255, 255, 255],\n",
       "        ...,\n",
       "        [255, 255, 255],\n",
       "        [255, 255, 255],\n",
       "        [255, 255, 255]],\n",
       "\n",
       "       [[255, 255, 255],\n",
       "        [255, 255, 255],\n",
       "        [255, 255, 255],\n",
       "        ...,\n",
       "        [255, 255, 255],\n",
       "        [255, 255, 255],\n",
       "        [255, 255, 255]],\n",
       "\n",
       "       [[255, 255, 255],\n",
       "        [255, 255, 255],\n",
       "        [255, 255, 255],\n",
       "        ...,\n",
       "        [255, 255, 255],\n",
       "        [255, 255, 255],\n",
       "        [255, 255, 255]],\n",
       "\n",
       "       ...,\n",
       "\n",
       "       [[255, 255, 255],\n",
       "        [255, 255, 255],\n",
       "        [255, 255, 255],\n",
       "        ...,\n",
       "        [255, 255, 255],\n",
       "        [255, 255, 255],\n",
       "        [255, 255, 255]],\n",
       "\n",
       "       [[255, 255, 255],\n",
       "        [255, 255, 255],\n",
       "        [255, 255, 255],\n",
       "        ...,\n",
       "        [255, 255, 255],\n",
       "        [255, 255, 255],\n",
       "        [255, 255, 255]],\n",
       "\n",
       "       [[255, 255, 255],\n",
       "        [255, 255, 255],\n",
       "        [255, 255, 255],\n",
       "        ...,\n",
       "        [255, 255, 255],\n",
       "        [255, 255, 255],\n",
       "        [255, 255, 255]]], dtype=uint8)"
      ]
     },
     "execution_count": 23,
     "metadata": {},
     "output_type": "execute_result"
    }
   ],
   "source": [
    "# 计算轮廓\n",
    "# cv2.findContours()函数接受的参数为二值图，即黑白的（不是灰度图）\n",
    "# cv2.RETR_EXTERNAL只检测外轮廓，cv2.CHAIN_APPROX_SIMPLE只保留终点坐标\n",
    "#返回的list中每个元素都是图像中的一个轮廓\n",
    "refCnts, hierarchy = cv2.findContours(ref.copy(), cv2.RETR_EXTERNAL, cv2.CHAIN_APPROX_SIMPLE)\n",
    "\n",
    "img_draw = img.copy()\n",
    "cv2.drawContours(img_draw, refCnts, -1, (0,0,255), 3) \n",
    "# cv_show('img_draw',img_draw)"
   ]
  },
  {
   "cell_type": "code",
   "execution_count": 24,
   "metadata": {},
   "outputs": [
    {
     "name": "stdout",
     "output_type": "stream",
     "text": [
      "(34, 1, 2)\n",
      "(37, 1, 2)\n",
      "(43, 1, 2)\n",
      "(26, 1, 2)\n",
      "(55, 1, 2)\n",
      "(38, 1, 2)\n",
      "(63, 1, 2)\n",
      "(45, 1, 2)\n",
      "(34, 1, 2)\n",
      "(30, 1, 2)\n"
     ]
    }
   ],
   "source": [
    "for i in refCnts:\n",
    "    print(i.shape)"
   ]
  },
  {
   "cell_type": "code",
   "execution_count": 25,
   "metadata": {},
   "outputs": [],
   "source": [
    "# 排序，从左到右，从上到下\n",
    "# finContours函数得到的轮廓列表refCnts不一定是按顺序排列的（即refCnt[0]不一定对应模板中的第一个数字的轮廓）\n",
    "# 所以自定义一个排序算法重新排序\n",
    "refCnts = myutils.sort_contours(refCnts, method=\"left-to-right\")[0] \n",
    "\n",
    "# 存储从模板上取出的数字的模板（如：# digits[0]对应数字0的roi）\n",
    "digits = {}\n",
    "# 遍历每一个轮廓\n",
    "for (i, c) in enumerate(refCnts):\n",
    "\t# 计算外接矩形并且resize成合适大小\n",
    "\t(x, y, w, h) = cv2.boundingRect(c)\n",
    "\troi = ref[y:y + h, x:x + w]\n",
    "\troi = cv2.resize(roi, roi_size)\n",
    "\n",
    "\t# 每一个数字对应每一个模板\n",
    "\tdigits[i] = roi\t"
   ]
  },
  {
   "cell_type": "markdown",
   "metadata": {},
   "source": [
    "#### 处理输入图像"
   ]
  },
  {
   "cell_type": "markdown",
   "metadata": {},
   "source": [
    "图像预处理"
   ]
  },
  {
   "cell_type": "code",
   "execution_count": 26,
   "metadata": {},
   "outputs": [],
   "source": [
    "# 初始化卷积核\n",
    "# 创建一个矩形结构元素，其大小为9x3。这个结构元素将用于形态学操作\n",
    "rectKernel = cv2.getStructuringElement(cv2.MORPH_RECT, (9, 3))\n",
    "sqKernel = cv2.getStructuringElement(cv2.MORPH_RECT, (5, 5))"
   ]
  },
  {
   "cell_type": "code",
   "execution_count": 27,
   "metadata": {},
   "outputs": [
    {
     "name": "stdout",
     "output_type": "stream",
     "text": [
      "(189, 300)\n"
     ]
    }
   ],
   "source": [
    "#读取输入图像，预处理\n",
    "image = cv2.imread(args[\"image\"])\n",
    "# cv_show('image',image)\n",
    "image = myutils.resize(image, width=300)\n",
    "gray = cv2.cvtColor(image, cv2.COLOR_BGR2GRAY)\n",
    "# cv_show('gray',gray)\n",
    "\n",
    "#礼帽操作，突出更明亮的区域\n",
    "tophat = cv2.morphologyEx(gray, cv2.MORPH_TOPHAT, rectKernel) \n",
    "# cv_show('tophat',tophat) \n",
    "# sobel算子，突出图像边缘\n",
    "# 这里只算了x方向的梯度，是因为实践下来发现效果比同时计算x和y再融合的效果更好\n",
    "gradX = cv2.Sobel(tophat, ddepth=cv2.CV_32F, dx=1, dy=0, ksize=-1)  # ksize=-1相当于用3*3的\n",
    "gradX = np.absolute(gradX)\n",
    "(minVal, maxVal) = (np.min(gradX), np.max(gradX))\n",
    "# 对梯度图像进行归一化，将其值映射到0-255范围内。\n",
    "gradX = (255 * ((gradX - minVal) / (maxVal - minVal)))\n",
    "# 将归一化后的梯度图像数据类型转换为8位无符号整型\n",
    "gradX = gradX.astype(\"uint8\")\n",
    "\n",
    "print (np.array(gradX).shape)\n",
    "# cv_show('gradX',gradX)"
   ]
  },
  {
   "cell_type": "markdown",
   "metadata": {},
   "source": [
    "通过闭操作将一组数字连在一起，增加后续轮廓检测的效果"
   ]
  },
  {
   "cell_type": "code",
   "execution_count": 28,
   "metadata": {},
   "outputs": [],
   "source": [
    "#通过闭操作（先膨胀，再腐蚀）将数字连在一起\n",
    "gradX = cv2.morphologyEx(gradX, cv2.MORPH_CLOSE, rectKernel) \n",
    "# cv_show('gradX',gradX)\n",
    "# THRESH_OTSU会自动寻找合适的阈值，适合双峰，需把阈值参数设置为0\n",
    "# 使用 | 运算符将cv2.THRESH_BINARY和cv2.THRESH_OTSU这两个标志组合起来，表示同时应用这两种阈值处理方式。\n",
    "# 具体来说，它告诉 cv2.threshold 函数使用Otsu方法找到的阈值进行二值化处理。\n",
    "thresh = cv2.threshold(gradX, 0, 255,\n",
    "\tcv2.THRESH_BINARY | cv2.THRESH_OTSU)[1] \n",
    "# cv_show('thresh',thresh)\n",
    "\n",
    "#再来一个闭操作\n",
    "thresh = cv2.morphologyEx(thresh, cv2.MORPH_CLOSE, sqKernel) #再来一个闭操作\n",
    "# cv_show('thresh',thresh)"
   ]
  },
  {
   "cell_type": "markdown",
   "metadata": {},
   "source": [
    "轮廓检测"
   ]
  },
  {
   "cell_type": "code",
   "execution_count": 30,
   "metadata": {},
   "outputs": [],
   "source": [
    "# 计算轮廓\n",
    "threshCnts, hierarchy = cv2.findContours(thresh.copy(), cv2.RETR_EXTERNAL,\n",
    "\tcv2.CHAIN_APPROX_SIMPLE)\n",
    "\n",
    "cnts = threshCnts\n",
    "cur_img = image.copy()\n",
    "cv2.drawContours(cur_img,cnts,-1,(0,0,255),3) \n",
    "# cv_show('img',cur_img)\n",
    "locs = []\n",
    "\n",
    "temp_image = image.copy()\n",
    "# 遍历轮廓\n",
    "for (i, c) in enumerate(cnts):\n",
    "\t# 计算矩形\n",
    "\t(x, y, w, h) = cv2.boundingRect(c)\n",
    "\tar = w / float(h)\n",
    "\t\n",
    "\tcv2.rectangle(temp_image, (x, y), (x+w, y+h), (0, 0, 255), 2)\n",
    "\t# cv_show('', temp_image)\n",
    "\n",
    "\t# 选择合适的区域，根据实际任务来，这里的基本都是四个数字一组\n",
    "\tif ar > 2.5 and ar < 4.0:\n",
    "\n",
    "\t\tif (w > 40 and w < 55) and (h > 10 and h < 20):\n",
    "\t\t\t#符合的留下来\n",
    "\t\t\tlocs.append((x, y, w, h))\n",
    "\n",
    "# 将符合的轮廓从左到右排序\n",
    "locs = sorted(locs, key=lambda x:x[0])"
   ]
  },
  {
   "cell_type": "code",
   "execution_count": 33,
   "metadata": {},
   "outputs": [],
   "source": [
    "# 测试是否正确筛选出预期中的区域\n",
    "temp_image = image.copy()\n",
    "for x, y, w, h in locs:\n",
    "    cv2.rectangle(temp_image, (x, y), (x+w, y+h), (0, 0, 255), 2)\n",
    "    # cv_show('', temp_image)"
   ]
  },
  {
   "cell_type": "code",
   "execution_count": 34,
   "metadata": {},
   "outputs": [
    {
     "name": "stdout",
     "output_type": "stream",
     "text": [
      "Credit Card Type: Visa\n",
      "Credit Card #: 4000123456789010\n"
     ]
    },
    {
     "data": {
      "text/plain": [
       "-1"
      ]
     },
     "execution_count": 34,
     "metadata": {},
     "output_type": "execute_result"
    }
   ],
   "source": [
    "output = []\n",
    "\n",
    "# 一组一组遍历\n",
    "for (i, (gX, gY, gW, gH)) in enumerate(locs):\n",
    "\t# initialize the list of group digits\n",
    "\tgroupOutput = []\n",
    "\n",
    "\t# 根据坐标提取每一个组\n",
    "\t# 从灰度图像gray中提取出当前轮廓对应的区域，并在周围添加5个像素的边界（稍微扩大ROI）\n",
    "\tgroup = gray[gY - 5:gY + gH + 5, gX - 5:gX + gW + 5]\n",
    "\tcv_show('group',group)\n",
    "\t# 预处理\n",
    "\t# 转为二值图像\n",
    "\tgroup = cv2.threshold(group, 0, 255,\n",
    "\t\tcv2.THRESH_BINARY | cv2.THRESH_OTSU)[1]\n",
    "\tcv_show('group',group)\n",
    "\t# 找到该组中每一个数字的轮廓\n",
    "\tdigitCnts, hierarchy = cv2.findContours(group.copy(), cv2.RETR_EXTERNAL,\n",
    "\t\tcv2.CHAIN_APPROX_SIMPLE)\n",
    "\t# 对轮廓列表 digitCnts 进行排序。这里的目的是根据轮廓的位置将它们从左到右排序\n",
    "\tdigitCnts = contours.sort_contours(digitCnts,\n",
    "\t\tmethod=\"left-to-right\")[0]\n",
    "\n",
    "\t# 计算每一组中的每一个数字\n",
    "\tfor c in digitCnts:\n",
    "\t\t# 找到当前数值的轮廓，resize成合适的的大小\n",
    "\t\t(x, y, w, h) = cv2.boundingRect(c)\n",
    "\t\troi = group[y:y + h, x:x + w]\n",
    "\t\troi = cv2.resize(roi, roi_size)\n",
    "\t\tcv_show('roi',roi)\n",
    "\n",
    "\t\t# 计算匹配得分\n",
    "\t\tscores = []\n",
    "\n",
    "\t\t# 在模板中计算每一个得分\n",
    "\t\tfor (digit, digitROI) in digits.items():\n",
    "\t\t\t# 模板匹配\n",
    "\t\t\tresult = cv2.matchTemplate(roi, digitROI,\n",
    "\t\t\t\tcv2.TM_CCOEFF)\n",
    "\t\t\t(_, score, _, _) = cv2.minMaxLoc(result)\n",
    "\t\t\tscores.append(score)\n",
    "\n",
    "\t\t# 得到最合适的数字\n",
    "\t\tgroupOutput.append(str(np.argmax(scores)))\n",
    "\n",
    "\t# 画出来\n",
    "\tcv2.rectangle(image, (gX - 5, gY - 5),\n",
    "\t\t(gX + gW + 5, gY + gH + 5), (0, 0, 255), 1)\n",
    "\tcv2.putText(image, \"\".join(groupOutput), (gX, gY - 15),\n",
    "\t\tcv2.FONT_HERSHEY_SIMPLEX, 0.65, (0, 0, 255), 2)\n",
    "\n",
    "\t# 得到结果\n",
    "\toutput.extend(groupOutput)\n",
    "\n",
    "# 打印结果\n",
    "print(\"Credit Card Type: {}\".format(FIRST_NUMBER[output[0]]))\n",
    "print(\"Credit Card #: {}\".format(\"\".join(output)))\n",
    "cv2.imshow(\"Image\", image)\n",
    "cv2.waitKey(0)"
   ]
  }
 ],
 "metadata": {
  "kernelspec": {
   "display_name": "Python 3",
   "language": "python",
   "name": "python3"
  },
  "language_info": {
   "codemirror_mode": {
    "name": "ipython",
    "version": 3
   },
   "file_extension": ".py",
   "mimetype": "text/x-python",
   "name": "python",
   "nbconvert_exporter": "python",
   "pygments_lexer": "ipython3",
   "version": "3.9.18"
  }
 },
 "nbformat": 4,
 "nbformat_minor": 2
}
