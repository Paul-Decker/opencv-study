{
 "cells": [
  {
   "cell_type": "code",
   "execution_count": null,
   "metadata": {},
   "outputs": [],
   "source": []
  },
  {
   "cell_type": "markdown",
   "metadata": {},
   "source": [
    "### 图像平滑处理"
   ]
  },
  {
   "cell_type": "code",
   "execution_count": null,
   "metadata": {},
   "outputs": [],
   "source": [
    "img = cv2.imread('assets/lenaNoise.png')\n",
    "\n",
    "cv_show('img', img)"
   ]
  },
  {
   "cell_type": "markdown",
   "metadata": {},
   "source": [
    "#### 均值滤波：cv2.blur()"
   ]
  },
  {
   "cell_type": "markdown",
   "metadata": {},
   "source": [
    "cv2.blur 函数是 OpenCV 库中的一个函数，用于对图像进行均值模糊处理。</br>均值模糊是一种简单且常用的图像平滑技术，它通过用图像中每个像素点周围的像素的平均值替换该像素点的值来减少图像的噪声。"
   ]
  },
  {
   "cell_type": "markdown",
   "metadata": {},
   "source": [
    "##### dst = cv2.blur(src, ksize)"
   ]
  },
  {
   "cell_type": "markdown",
   "metadata": {},
   "source": [
    "参数：</br>\n",
    "- src：表示输入图像，可以是灰度图像或者彩色图像。\n",
    "- ksize：表示模糊内核的大小。这是一个元组 (width, height)，其中 width 和 height 必须是正奇数。例如，(3, 3) 表示一个 3x3 的内核。"
   ]
  },
  {
   "cell_type": "markdown",
   "metadata": {},
   "source": [
    "返回值：</br> \n",
    "- dst 是模糊处理后的图像"
   ]
  },
  {
   "cell_type": "markdown",
   "metadata": {},
   "source": [
    "均值模糊的工作原理如下：</br>\n",
    "\n",
    "1. 对于图像中的每个像素点，函数会考虑一个以该像素为中心的 ksize 大小的区域（通常是正方形）。\n",
    "2. 计算这个区域内所有像素的平均值。（对于边缘像素，采用边界复制的方式进行边缘填充后进行计算）\n",
    "3. 将这个平均值赋给该像素点，作为模糊后的结果。"
   ]
  },
  {
   "cell_type": "markdown",
   "metadata": {},
   "source": [
    "<img src=\"assets/image.png\" alt=\"image\" weight=250, height=300, style=\"margin: auto;\"/>"
   ]
  },
  {
   "cell_type": "code",
   "execution_count": null,
   "metadata": {},
   "outputs": [],
   "source": [
    "# 均值滤波\n",
    "# 简单的平均卷积操作\n",
    "# 简单来说就是，计算核的平均值，用这个值替代核的中间数值\n",
    "# 对于边缘像素，采用边界复制的方式进行边缘填充后进行计算\n",
    "blur = cv2.blur(img, (3, 3))\n",
    "cv_show('blur', blur)"
   ]
  },
  {
   "cell_type": "code",
   "execution_count": null,
   "metadata": {},
   "outputs": [
    {
     "data": {
      "text/plain": [
       "array([[125, 125, 133],\n",
       "       [125, 125, 133],\n",
       "       [125, 125, 133]], dtype=uint8)"
      ]
     },
     "metadata": {},
     "output_type": "display_data"
    }
   ],
   "source": [
    "img[:3, 0:3, 0]"
   ]
  },
  {
   "cell_type": "code",
   "execution_count": null,
   "metadata": {},
   "outputs": [
    {
     "data": {
      "text/plain": [
       "array([[125, 128, 129],\n",
       "       [125, 128, 129],\n",
       "       [125, 128, 129]], dtype=uint8)"
      ]
     },
     "metadata": {},
     "output_type": "display_data"
    }
   ],
   "source": [
    "blur[:3, 0:3, 0]"
   ]
  },
  {
   "cell_type": "markdown",
   "metadata": {},
   "source": [
    "#### 方框滤波：cv2.boxFilter()"
   ]
  },
  {
   "cell_type": "markdown",
   "metadata": {},
   "source": [
    "cv2.boxFilter 函数是 OpenCV 库中的一个函数，用于对图像进行盒式滤波（也称为均值滤波）。</br>盒式滤波是一种线性滤波器，它通过计算图像中每个像素点周围邻域内的像素的平均值来平滑图像。</br>这种滤波方法与 cv2.blur 函数非常相似，但 cv2.boxFilter 提供了更多的灵活性，因为它允许用户指定归一化（normalization）选项。"
   ]
  },
  {
   "cell_type": "markdown",
   "metadata": {},
   "source": [
    "##### dst = cv2.boxFilter(src, ddepth, ksize[, dst[, anchor[, normalize[, borderType]]]])"
   ]
  },
  {
   "cell_type": "markdown",
   "metadata": {},
   "source": [
    "参数：</br>\n",
    "- src：输入图像，可以是灰度图像或者彩色图像。\n",
    "- ddepth：目标图像所需的深度，如果设置为 -1，则目标图像和源图像具有相同的深度。\n",
    "- ksize：核大小，表示滤波器的大小，格式为 (width, height)，且宽度和高度必须是正奇数。\n",
    "- dst：输出图像，可以省略，如果不指定，函数会自动创建一个与 src 相同大小和类型的目标图像。\n",
    "- anchor：锚点，表示内核中锚点的位置，默认值是 (-1, -1)，表示锚点位于内核中心。\n",
    "- normalize：归一化标志，如果设置为 True，则进行归一化，使得滤波后的像素值总和不变（总和为1）。如果设置为 False，则不进行归一化，此时内核中的每个元素都是相同的，总和为核大小的面积。\n",
    "- borderType：边界类型，用于处理边界扩展，默认值是 cv2.BORDER_DEFAULT。"
   ]
  },
  {
   "cell_type": "code",
   "execution_count": null,
   "metadata": {},
   "outputs": [],
   "source": [
    "# 方框滤波\n",
    "# 选择归一化时，基本和均值一样\n",
    "box = cv2.boxFilter(img,-1,(3,3), normalize=True)  \n",
    "\n",
    "cv_show('box', box)"
   ]
  },
  {
   "cell_type": "code",
   "execution_count": null,
   "metadata": {},
   "outputs": [],
   "source": [
    "# 方框滤波\n",
    "# 如果不归一化，则容易越界（像素值大于255）\n",
    "# 所有越界值都取值255\n",
    "box = cv2.boxFilter(img,-1,(3,3), normalize=False)  \n",
    "\n",
    "cv_show('box', box)"
   ]
  },
  {
   "cell_type": "markdown",
   "metadata": {},
   "source": [
    "#### 高斯滤波：cv2.GaussianBlur()"
   ]
  },
  {
   "cell_type": "markdown",
   "metadata": {},
   "source": [
    "cv2.GaussianBlur() 函数是 OpenCV 库中的一个函数，用于对图像应用高斯模糊，这是一种使用高斯函数作为卷积核的图像平滑技术。</br>高斯模糊通过将图像与高斯分布（正态分布）的卷积核进行卷积来减少图像的噪声和细节，它比均值模糊（cv2.blur()）能更好地保留边缘信息，因为它考虑了像素之间的距离。"
   ]
  },
  {
   "cell_type": "markdown",
   "metadata": {},
   "source": [
    "##### dst = cv2.GaussianBlur(src, ksize, sigmaX[, dst[, sigmaY[, borderType]]])"
   ]
  },
  {
   "cell_type": "markdown",
   "metadata": {},
   "source": [
    "参数：</br>\n",
    "- src：输入图像，可以是灰度图像或者彩色图像。\n",
    "- ksize：高斯核的大小，这是一个正奇数或零的元组 (width, height)。如果这个值为零，那么它将从 sigmaX 和 sigmaY 计算得出。\n",
    "- sigmaX：X 方向上的高斯核标准差。如果这个值为零，它将从 ksize 中计算得出；如果 ksize 也为零，则 sigmaX 必须为正数。较大的 sigmaX 值意味着更模糊的图像。\n",
    "- dst：输出图像，可以省略，如果不指定，函数会自动创建一个与 src 相同大小和类型的目标图像。\n",
    "- sigmaY：Y 方向上的高斯核标准差。如果这个值为零，它会被设置成和 sigmaX 一样。如果 sigmaY 也为零，那么它将从 sigmaX 计算得出。\n",
    "- borderType：边界类型，用于处理边界扩展，默认值是 cv2.BORDER_DEFAULT。"
   ]
  },
  {
   "cell_type": "markdown",
   "metadata": {},
   "source": [
    "高斯模糊是一种非常有效的去噪方法，因为它模拟了人类视觉系统中由光学和神经过程引起的模糊效果。"
   ]
  },
  {
   "cell_type": "code",
   "execution_count": null,
   "metadata": {},
   "outputs": [],
   "source": [
    "# 高斯滤波\n",
    "# 高斯模糊的卷积核里的数值是满足高斯分布，相当于更重视中间的\n",
    "gaussian = cv2.GaussianBlur(img, (5, 5), 1)  \n",
    "\n",
    "cv_show('gaussion', gaussian)"
   ]
  },
  {
   "cell_type": "markdown",
   "metadata": {},
   "source": [
    "#### 中值滤波：cv2.medianBlur()"
   ]
  },
  {
   "cell_type": "markdown",
   "metadata": {},
   "source": [
    "cv2.medianBlur() 函数是 OpenCV 库中的一个函数，用于对图像应用中值模糊（Median Blur）。</br>中值模糊是一种非线性图像平滑技术，它通过将图像中每个像素点的值替换为其邻域内的中值来减少图像噪声，特别是椒盐噪声（salt-and-pepper noise）。</br>与均值模糊和高斯模糊不同，中值模糊不会模糊图像的边缘。"
   ]
  },
  {
   "cell_type": "markdown",
   "metadata": {},
   "source": [
    "##### dst = cv2.medianBlur(src, ksize)"
   ]
  },
  {
   "cell_type": "markdown",
   "metadata": {},
   "source": [
    "参数：</br>\n",
    "- src：输入图像，可以是灰度图像或者彩色图像。需要注意的是，如果输入图像是彩色图像，函数会将图像转换为灰度图像再进行中值模糊处理。\n",
    "- ksize：滤波窗口的大小，必须是正奇数。这个值决定了邻域的大小，即考虑多少个像素点来计算中值。\n",
    "该函数的返回值 dst 是应用了中值模糊后的图像。"
   ]
  },
  {
   "cell_type": "markdown",
   "metadata": {},
   "source": [
    "工作原理：</br>\n",
    "1. 对于图像中的每个像素点，选择一个以该像素为中心的 ksize x ksize 的邻域。\n",
    "2. 将邻域内所有像素的灰度值进行排序。\n",
    "3. 取排序后像素值的中间值（中值）作为该像素点的新值。"
   ]
  },
  {
   "cell_type": "code",
   "execution_count": null,
   "metadata": {},
   "outputs": [],
   "source": [
    "# 中值滤波\n",
    "# 相当于用中值代替\n",
    "median = cv2.medianBlur(img, 5)  # 中值滤波\n",
    "\n",
    "cv_show('median', median)"
   ]
  },
  {
   "cell_type": "markdown",
   "metadata": {},
   "source": [
    "#### 展示三种滤波操作效果"
   ]
  },
  {
   "cell_type": "code",
   "execution_count": null,
   "metadata": {},
   "outputs": [],
   "source": [
    "# 展示所有的\n",
    "res = np.hstack((blur, gaussian, median))\n",
    "#print (res)\n",
    "cv2.imshow('median vs average', res)\n",
    "cv2.waitKey(0)\n",
    "cv2.destroyAllWindows()"
   ]
  }
 ],
 "metadata": {
  "language_info": {
   "name": "python"
  }
 },
 "nbformat": 4,
 "nbformat_minor": 2
}
