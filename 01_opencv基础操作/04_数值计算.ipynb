{
 "cells": [
  {
   "cell_type": "code",
   "execution_count": null,
   "metadata": {},
   "outputs": [],
   "source": []
  },
  {
   "cell_type": "markdown",
   "metadata": {},
   "source": [
    "### 数值计算"
   ]
  },
  {
   "cell_type": "code",
   "execution_count": null,
   "metadata": {},
   "outputs": [],
   "source": [
    "img_cat = cv2.imread('assets/cat.jpg')\n",
    "# 所有像素值都+100\n",
    "# 若结果像素值大于255，则对256取模\n",
    "img_cat2 = img_cat + 100"
   ]
  },
  {
   "cell_type": "code",
   "execution_count": null,
   "metadata": {},
   "outputs": [
    {
     "data": {
      "text/plain": [
       "array([[142, 146, 151, ..., 156, 155, 154],\n",
       "       [108, 112, 118, ..., 155, 154, 153],\n",
       "       [108, 110, 118, ..., 156, 155, 154],\n",
       "       [139, 141, 148, ..., 156, 155, 154],\n",
       "       [153, 156, 163, ..., 160, 159, 158]], dtype=uint8)"
      ]
     },
     "metadata": {},
     "output_type": "display_data"
    }
   ],
   "source": [
    "img_cat[:5, :, 0]"
   ]
  },
  {
   "cell_type": "code",
   "execution_count": null,
   "metadata": {},
   "outputs": [
    {
     "data": {
      "text/plain": [
       "array([[242, 246, 251, ...,   0, 255, 254],\n",
       "       [208, 212, 218, ..., 255, 254, 253],\n",
       "       [208, 210, 218, ...,   0, 255, 254],\n",
       "       [239, 241, 248, ...,   0, 255, 254],\n",
       "       [253,   0,   7, ...,   4,   3,   2]], dtype=uint8)"
      ]
     },
     "metadata": {},
     "output_type": "display_data"
    }
   ],
   "source": [
    "img_cat2[:5, :, 0]"
   ]
  },
  {
   "cell_type": "code",
   "execution_count": null,
   "metadata": {},
   "outputs": [
    {
     "data": {
      "text/plain": [
       "array([[128, 136, 146, ..., 156, 154, 152],\n",
       "       [ 60,  68,  80, ..., 154, 152, 150],\n",
       "       [ 60,  64,  80, ..., 156, 154, 152],\n",
       "       [122, 126, 140, ..., 156, 154, 152],\n",
       "       [150, 156, 170, ..., 164, 162, 160]], dtype=uint8)"
      ]
     },
     "metadata": {},
     "output_type": "display_data"
    }
   ],
   "source": [
    "(img_cat+img_cat2)[:5, :, 0]"
   ]
  },
  {
   "cell_type": "code",
   "execution_count": null,
   "metadata": {},
   "outputs": [
    {
     "data": {
      "text/plain": [
       "array([[255, 255, 255, ..., 156, 255, 255],\n",
       "       [255, 255, 255, ..., 255, 255, 255],\n",
       "       [255, 255, 255, ..., 156, 255, 255],\n",
       "       [255, 255, 255, ..., 156, 255, 255],\n",
       "       [255, 156, 170, ..., 164, 162, 160]], dtype=uint8)"
      ]
     },
     "metadata": {},
     "output_type": "display_data"
    }
   ],
   "source": [
    "# 像素值大于255时，取最大值255\n",
    "cv2.add(img_cat, img_cat2)[:5, :, 0]"
   ]
  }
 ],
 "metadata": {
  "language_info": {
   "name": "python"
  }
 },
 "nbformat": 4,
 "nbformat_minor": 2
}
