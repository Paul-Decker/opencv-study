{
 "cells": [
  {
   "cell_type": "code",
   "execution_count": 2,
   "metadata": {},
   "outputs": [],
   "source": [
    "import cv2\n",
    "import numpy as np \n",
    "import matplotlib.pyplot as plt \n",
    "%matplotlib inline\n",
    "\n",
    "def cv_show(name, img):\n",
    "    cv2.imshow(name, img)\n",
    "    cv2.waitKey(0)\n",
    "    cv2.destroyAllWindows()"
   ]
  },
  {
   "cell_type": "markdown",
   "metadata": {},
   "source": [
    "### Sobel算子：cv2.Sobel()"
   ]
  },
  {
   "cell_type": "markdown",
   "metadata": {},
   "source": [
    "Sobel算子是一种用于图像处理的算子，主要用于边缘检测任务。</br>它通过计算图像亮度的空间梯度来突出显示图像中的边缘。</br>Sobel算子由两个核（卷积矩阵）组成（水平边缘核Gx、垂直边缘核Gy），分别用于检测图像的水平边缘和垂直边缘。"
   ]
  },
  {
   "cell_type": "markdown",
   "metadata": {},
   "source": [
    "<img src='assets/sobel_1.png' />"
   ]
  },
  {
   "cell_type": "markdown",
   "metadata": {},
   "source": [
    "函数 cv2.Sobel() 是 OpenCV 库中的一个函数，用于计算图像的索贝尔梯度。该函数在图像处理中常用于边缘检测。"
   ]
  },
  {
   "cell_type": "markdown",
   "metadata": {},
   "source": [
    "##### cv2.Sobel(src, ddepth, dx, dy, ksize=None, scale=None, delta=None, borderType=None)"
   ]
  },
  {
   "cell_type": "markdown",
   "metadata": {},
   "source": [
    "参数：</br>\n",
    "- src：输入图像，必须是灰度图像（单通道）。\n",
    "- ddepth：目标图像的所需深度，可以使用 -1 表示与源图像相同的深度。\n",
    "- dx：x方向上的导数阶数。\n",
    "- dy：y方向上的导数阶数。\n",
    "- ksize：索贝尔核的大小，必须是正数和奇数。默认值为 3。\n",
    "- scale：可选参数，用于计算梯度时对结果进行缩放的比例因子，默认值为 1。\n",
    "- delta：可选参数，在结果存入目标图像之前添加到结果中的可选值，默认值为 0。\n",
    "- borderType：边界模式，用于处理图像边界之外的点。"
   ]
  },
  {
   "cell_type": "markdown",
   "metadata": {},
   "source": [
    "返回值：</br>\n",
    "- 函数返回计算得到的导数图像，即梯度图像。"
   ]
  },
  {
   "cell_type": "markdown",
   "metadata": {},
   "source": [
    "注意事项：</br>\n",
    "- ddepth 参数非常重要，尤其是在使用 dx 或 dy 不为 0 的情况下。由于Sobel运算涉及到图像像素值的加减运算，可能会导致结果超出标准8位图像的像素值范围（0-255）。因此，通常使用 cv2.CV_64F 或 cv2.CV_32F 来确保在计算过程中不会发生溢出。\n",
    "- 使用 ksize=3 时，函数将使用 3x3 的核进行卷积运算，这是默认值。如果需要更精细的边缘检测，可以使用更大的核（如 ksize=5）。\n",
    "- 为了得到更好的边缘检测效果，通常会在应用Sobel算子之前对图像进行高斯模糊处理以减少噪声。"
   ]
  },
  {
   "cell_type": "markdown",
   "metadata": {},
   "source": [
    "CV_64F 表示每个像素值是一个 64 位浮点数（double），CV_32F 表示每个像素值是一个 32 位浮点数（float）</br>\n",
    "为什么使用浮点数</br>\n",
    "在图像处理中，特别是在进行如边缘检测、图像滤波、图像配准等计算时，像素值可能会超出标准的 8 位无符号整数（0-255）范围。使用浮点数可以避免在计算过程中发生溢出，并且能够保持更精确的计算结果。"
   ]
  },
  {
   "cell_type": "markdown",
   "metadata": {},
   "source": [
    "##### 示例1：实心圆"
   ]
  },
  {
   "cell_type": "code",
   "execution_count": 3,
   "metadata": {},
   "outputs": [],
   "source": [
    "img = cv2.imread('assets/pie.png', cv2.IMREAD_GRAYSCALE)\n",
    "cv_show('', img)"
   ]
  },
  {
   "cell_type": "code",
   "execution_count": 5,
   "metadata": {},
   "outputs": [],
   "source": [
    "sobelx = cv2.Sobel(img, cv2.CV_64F, dx=1, dy=0, ksize=3)\n",
    "cv_show('', sobelx)"
   ]
  },
  {
   "cell_type": "markdown",
   "metadata": {},
   "source": [
    "白到黑是正数，黑到白就是负数了，所有的负数会被截断成0，所以要取绝对值"
   ]
  },
  {
   "cell_type": "code",
   "execution_count": 6,
   "metadata": {},
   "outputs": [],
   "source": [
    "sobelx = cv2.Sobel(img, cv2.CV_64F, dx=1, dy=0, ksize=3)\n",
    "# 将负数取绝对值\n",
    "sobelx = cv2.convertScaleAbs(sobelx)\n",
    "cv_show('', sobelx)"
   ]
  },
  {
   "cell_type": "code",
   "execution_count": 7,
   "metadata": {},
   "outputs": [],
   "source": [
    "sobely = cv2.Sobel(img, cv2.CV_64F, dx=0, dy=1, ksize=3)\n",
    "# 将负数取绝对值\n",
    "sobely = cv2.convertScaleAbs(sobely)\n",
    "cv_show('', sobely)"
   ]
  },
  {
   "cell_type": "markdown",
   "metadata": {},
   "source": [
    "分别计算x和y，再求和（用cv2.addWeighted函数融合）"
   ]
  },
  {
   "cell_type": "code",
   "execution_count": 9,
   "metadata": {},
   "outputs": [],
   "source": [
    "sobelxy = cv2.addWeighted(sobelx, 0.5, sobely, 0.5, 0)\n",
    "cv_show('', sobelxy)"
   ]
  },
  {
   "cell_type": "markdown",
   "metadata": {},
   "source": [
    "注意：不建议直接计算"
   ]
  },
  {
   "cell_type": "code",
   "execution_count": 13,
   "metadata": {},
   "outputs": [],
   "source": [
    "sobelxy = cv2.Sobel(img, cv2.CV_64F, dx=1, dy=1, ksize=3)\n",
    "# sobelxy = cv2.convertScaleAbs(sobelxy)\n",
    "cv_show('', sobelxy)"
   ]
  },
  {
   "cell_type": "markdown",
   "metadata": {},
   "source": [
    "##### 示例2：人像"
   ]
  },
  {
   "cell_type": "markdown",
   "metadata": {},
   "source": [
    "分别计算x和y，再求和"
   ]
  },
  {
   "cell_type": "code",
   "execution_count": 23,
   "metadata": {},
   "outputs": [],
   "source": [
    "img = cv2.imread('assets/lena.jpg', cv2.IMREAD_GRAYSCALE)\n",
    "sobelx = cv2.Sobel(img, cv2.CV_64F, dx=1, dy=0, ksize=3)\n",
    "sobelx = cv2.convertScaleAbs(sobelx)\n",
    "sobely = cv2.Sobel(img, cv2.CV_64F, dx=0, dy=1, ksize=3)\n",
    "sobely = cv2.convertScaleAbs(sobely)\n",
    "sobelxy = cv2.addWeighted(sobelx, 0.5, sobely, 0.5, 0)\n",
    "cv_show('', sobelxy)"
   ]
  },
  {
   "cell_type": "markdown",
   "metadata": {},
   "source": [
    "直接计算（效果不好，不建议使用）"
   ]
  },
  {
   "cell_type": "code",
   "execution_count": 22,
   "metadata": {},
   "outputs": [],
   "source": [
    "sobelxy = cv2.Sobel(img, cv2.CV_64F, dx=1, dy=1, ksize=3)\n",
    "sobelxy = cv2.convertScaleAbs(sobelxy)\n",
    "cv_show('', sobelxy)"
   ]
  },
  {
   "cell_type": "markdown",
   "metadata": {},
   "source": [
    "### Scharr算子"
   ]
  },
  {
   "cell_type": "markdown",
   "metadata": {},
   "source": [
    "Scharr算子是一种边缘检测算子，它是Sobel算子的一种改进版本。</br>Scharr算子通过对图像的每个像素点应用两个不同的方向（水平和垂直）的滤波器来检测边缘。</br>每个方向的滤波器都包含两个一阶导数，分别用于检测边缘的方向。"
   ]
  },
  {
   "cell_type": "markdown",
   "metadata": {},
   "source": [
    "<img src='assets/scharr.png' />"
   ]
  },
  {
   "cell_type": "markdown",
   "metadata": {},
   "source": [
    "Scharr算子与Sobel算子基本相同，主要区别在于两个核（卷积矩阵）中的数值不同"
   ]
  },
  {
   "cell_type": "markdown",
   "metadata": {},
   "source": [
    "相比与Sobel算子，Scharr算子能检测到更多的细节"
   ]
  },
  {
   "cell_type": "markdown",
   "metadata": {},
   "source": [
    "### laplacian算子"
   ]
  },
  {
   "cell_type": "markdown",
   "metadata": {},
   "source": [
    "Laplacian算子是一种二阶微分算子，用于图像处理中的边缘检测。</br>它对图像中的每个像素点计算一个数值，这个数值代表了该像素点周围的灰度变化率。</br>Laplacian算子能够检测到图像中的边缘和角点，因为这些区域的灰度变化较为剧烈。"
   ]
  },
  {
   "cell_type": "markdown",
   "metadata": {},
   "source": [
    "<img src='assets/laplacian.png' />"
   ]
  },
  {
   "cell_type": "code",
   "execution_count": 31,
   "metadata": {},
   "outputs": [],
   "source": [
    "# 不同算子之间的差异\n",
    "# sobel算子\n",
    "img = cv2.imread('assets/lena.jpg', cv2.IMREAD_GRAYSCALE)\n",
    "sobelx = cv2.Sobel(img, cv2.CV_64F, dx=1, dy=0, ksize=3)\n",
    "sobelx = cv2.convertScaleAbs(sobelx)\n",
    "sobely = cv2.Sobel(img, cv2.CV_64F, dx=0, dy=1, ksize=3)\n",
    "sobely = cv2.convertScaleAbs(sobely)\n",
    "sobelxy = cv2.addWeighted(sobelx, 0.5, sobely, 0.5, 0)\n",
    "\n",
    "# scharr算子\n",
    "scharrx = cv2.Scharr(img, cv2.CV_64F, dx=1, dy=0)\n",
    "scharrx = cv2.convertScaleAbs(scharrx)\n",
    "scharry = cv2.Scharr(img, cv2.CV_64F, dx=0, dy=1)\n",
    "scharry = cv2.convertScaleAbs(scharry)\n",
    "scharrxy = cv2.addWeighted(scharrx, 0.5, scharry, 0.5, 0)\n",
    "\n",
    "# laplacian算子\n",
    "laplacian = cv2.Laplacian(img, cv2.CV_64F)\n",
    "laplacian = cv2.convertScaleAbs(laplacian)\n",
    "\n",
    "res = np.hstack((sobelxy, scharrxy, laplacian))\n",
    "cv_show('', res)\n",
    "'''\n",
    "三个算子的边缘检测效果中，sobel算子与scharr算子表现较好\n",
    "相比于sobel算子，scharr算子能检测到更多的细节\n",
    "而laplacian算子效果不太理想，一般不单独使用 \n",
    "'''"
   ]
  }
 ],
 "metadata": {
  "kernelspec": {
   "display_name": "Python 3",
   "language": "python",
   "name": "python3"
  },
  "language_info": {
   "codemirror_mode": {
    "name": "ipython",
    "version": 3
   },
   "file_extension": ".py",
   "mimetype": "text/x-python",
   "name": "python",
   "nbconvert_exporter": "python",
   "pygments_lexer": "ipython3",
   "version": "3.9.18"
  }
 },
 "nbformat": 4,
 "nbformat_minor": 2
}
