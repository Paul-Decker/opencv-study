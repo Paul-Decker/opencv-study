{
 "cells": [
  {
   "cell_type": "code",
   "execution_count": 2,
   "metadata": {},
   "outputs": [],
   "source": [
    "import cv2 #opencv读取的格式是BGR\n",
    "import numpy as np\n",
    "import matplotlib.pyplot as plt #Matplotlib是RGB\n",
    "%matplotlib inline \n",
    "\n",
    "def cv_show(name, img):\n",
    "    cv2.imshow(name, img)\n",
    "    cv2.waitKey(0)\n",
    "    cv2.destroyAllWindows()"
   ]
  },
  {
   "cell_type": "markdown",
   "metadata": {},
   "source": [
    "### 腐蚀操作：cv2.erode()"
   ]
  },
  {
   "cell_type": "markdown",
   "metadata": {},
   "source": [
    "cv2.erode() 函数是 OpenCV 库中的一个函数，用于对图像进行腐蚀操作。</br>腐蚀是一种形态学操作，它通过使用一个结构元素（也称为核）来侵蚀图像中的前景对象（通常是白色区域）。</br>腐蚀操作可以用来缩小前景对象的大小，消除小对象，或者将对象连接的部分断开。"
   ]
  },
  {
   "cell_type": "markdown",
   "metadata": {},
   "source": [
    "##### dst = cv2.erode(src, kernel[, dst[, anchor[, iterations[, borderType[, borderValue]]]]])"
   ]
  },
  {
   "cell_type": "markdown",
   "metadata": {},
   "source": [
    "参数：</br>\n",
    "- src：输入图像，可以是灰度图像或者二值图像。\n",
    "- kernel：腐蚀操作的核，可以是由 cv2.getStructuringElement() 生成的结构元素，或者直接定义的核数组。\n",
    "- dst：输出图像，可以省略，如果不指定，函数会自动创建一个与 src 相同大小和类型的目标图像。\n",
    "- anchor：锚点位置，默认值是 (-1, -1)，表示锚点位于核的中心。\n",
    "- iterations：腐蚀操作的迭代次数，默认值为 1。如果设置为更大的数值，腐蚀操作会被重复执行多次。\n",
    "- borderType：边界类型，用于处理边界扩展，默认值是 cv2.BORDER_CONSTANT。\n",
    "- borderValue：当 borderType 为 cv2.BORDER_CONSTANT 时，用于填充边界像素的值。"
   ]
  },
  {
   "cell_type": "markdown",
   "metadata": {},
   "source": [
    "腐蚀操作的工作原理如下：</br>\n",
    "\n",
    "1. 将核放置在输入图像的每个像素上。\n",
    "2. 对于核覆盖的每个位置，检查核内的所有像素值是否都是 1（对于二值图像）或者高于某个阈值（对于灰度图像）。\n",
    "3. 如果核内的所有像素都满足条件，则中心像素保持不变；否则，中心像素被设置为 0（对于二值图像）或者背景色（对于灰度图像）。"
   ]
  },
  {
   "cell_type": "markdown",
   "metadata": {},
   "source": [
    "##### 示例"
   ]
  },
  {
   "cell_type": "code",
   "execution_count": 3,
   "metadata": {},
   "outputs": [],
   "source": [
    "img = cv2.imread('assets/dige.png')\n",
    "cv_show('original img', img)"
   ]
  },
  {
   "cell_type": "code",
   "execution_count": 5,
   "metadata": {},
   "outputs": [],
   "source": [
    "# 腐蚀操作\n",
    "kernel = np.ones((5, 5), np.uint8)\n",
    "erosion = cv2.erode(img, kernel, iterations=1)\n",
    "cv_show('erosion', erosion)"
   ]
  },
  {
   "cell_type": "code",
   "execution_count": 6,
   "metadata": {},
   "outputs": [],
   "source": [
    "pie = cv2.imread('assets/pie.png')\n",
    "cv_show('original pie', pie)\n",
    "# 腐蚀操作\n",
    "kernel = np.ones((30, 30), np.uint8)\n",
    "erosion_1 = cv2.erode(pie, kernel, iterations=1)\n",
    "erosion_2 = cv2.erode(pie, kernel, iterations=2)\n",
    "erosion_3 = cv2.erode(pie, kernel, iterations=3)\n",
    "res = np.hstack((erosion_1, erosion_2, erosion_3))\n",
    "cv_show('res', res)"
   ]
  },
  {
   "cell_type": "markdown",
   "metadata": {},
   "source": [
    "### 膨胀操作：cv2.dilate()"
   ]
  },
  {
   "cell_type": "markdown",
   "metadata": {},
   "source": [
    "cv2.dilate() 函数是 OpenCV 库中的一个函数，用于对图像进行膨胀操作。</br>膨胀是一种形态学操作，它通过使用一个结构元素（也称为核）来扩展图像中的前景对象（通常是白色区域）。</br>膨胀操作可以用来增加前景对象的大小，连接相邻的对象，或者填充前景对象中的小孔和断裂。"
   ]
  },
  {
   "cell_type": "markdown",
   "metadata": {},
   "source": [
    "##### dst = cv2.dilate(src, kernel[, dst[, anchor[, iterations[, borderType[, borderValue]]]]])"
   ]
  },
  {
   "cell_type": "markdown",
   "metadata": {},
   "source": [
    "参数：</br>\n",
    "- src：输入图像，可以是灰度图像或者二值图像。\n",
    "- kernel：膨胀操作的核，可以是由 cv2.getStructuringElement() 生成的结构元素，或者直接定义的核数组。\n",
    "- dst：输出图像，可以省略，如果不指定，函数会自动创建一个与 src 相同大小和类型的目标图像。\n",
    "- anchor：锚点位置，默认值是 (-1, -1)，表示锚点位于核的中心。\n",
    "- iterations：膨胀操作的迭代次数，默认值为 1。如果设置为更大的数值，膨胀操作会被重复执行多次。\n",
    "- borderType：边界类型，用于处理边界扩展，默认值是 cv2.BORDER_CONSTANT。\n",
    "- borderValue：当 borderType 为 cv2.BORDER_CONSTANT 时，用于填充边界像素的值。"
   ]
  },
  {
   "cell_type": "markdown",
   "metadata": {},
   "source": [
    "膨胀操作的工作原理如下：</br>\n",
    "\n",
    "1. 将核放置在输入图像的每个像素上。\n",
    "2. 对于核覆盖的每个位置，检查核内的至少一个像素值是否是 1（对于二值图像）或者高于某个阈值（对于灰度图像）。\n",
    "3. 如果核内至少有一个像素满足条件，则中心像素被设置为 1（对于二值图像）或者前景色（对于灰度图像）；否则，中心像素保持不变。"
   ]
  },
  {
   "cell_type": "markdown",
   "metadata": {},
   "source": [
    "##### 示例"
   ]
  },
  {
   "cell_type": "code",
   "execution_count": 7,
   "metadata": {},
   "outputs": [],
   "source": [
    "img = cv2.imread('assets/dige.png')\n",
    "cv_show('dige', img)"
   ]
  },
  {
   "cell_type": "code",
   "execution_count": 12,
   "metadata": {},
   "outputs": [],
   "source": [
    "# 膨胀dilate操作\n",
    "kernel = np.ones((3, 3), np.uint8)\n",
    "dilate = cv2.dilate(img, kernel, iterations=1)\n",
    "cv_show('dilate', dilate)\n",
    "\n",
    "''' \n",
    "腐蚀后，图像中的毛刺虽然消失了，但是整个字体也变细了\n",
    "为了还原字体的粗度，腐蚀之后进行膨胀操作\n",
    "'''\n",
    "# 先腐蚀后膨胀\n",
    "erosion = cv2.erode(img, kernel)\n",
    "erosion_dilate = cv2.dilate(erosion, kernel)\n",
    "cv_show('erosion_dilate', erosion_dilate)"
   ]
  },
  {
   "cell_type": "code",
   "execution_count": 15,
   "metadata": {},
   "outputs": [],
   "source": [
    "pie = cv2.imread('assets/pie.png')\n",
    "cv_show('original pie', pie)\n",
    "\n",
    "kernel = np.ones((30, 30), np.uint8)\n",
    "dilate_1 = cv2.dilate(pie, kernel, iterations=1)\n",
    "dilate_2 = cv2.dilate(pie, kernel, iterations=2)\n",
    "dilate_3 = cv2.dilate(pie, kernel, iterations=3)\n",
    "res = np.hstack((dilate_1, dilate_2, dilate_3))\n",
    "cv_show('res', res)\n"
   ]
  },
  {
   "cell_type": "markdown",
   "metadata": {},
   "source": [
    "### 开运算与闭运算：cv2.morphologyEx()"
   ]
  },
  {
   "cell_type": "markdown",
   "metadata": {},
   "source": [
    "cv2.morphologyEx() 函数是 OpenCV 库中的一个函数，用于对图像执行高级形态学变换。</br>形态学变换是基于图像形状的一系列操作，通常使用结构元素（也称为核）来修改图像中的前景和背景。"
   ]
  },
  {
   "cell_type": "markdown",
   "metadata": {},
   "source": [
    "##### dst = cv2.morphologyEx(src, op, kernel[, dst[, anchor[, iterations[, borderType[, borderValue]]]]])"
   ]
  },
  {
   "cell_type": "markdown",
   "metadata": {},
   "source": [
    "参数：</br>\n",
    "- src：输入图像，通常是灰度图像或者二值图像。\n",
    "- op：形态学操作的类型，可以是以下几种之一：\n",
    "- - cv2.MORPH_ERODE：腐蚀操作。\n",
    "- - cv2.MORPH_DILATE：膨胀操作。\n",
    "- - cv2.MORPH_OPEN：开运算，先腐蚀后膨胀。\n",
    "- - cv2.MORPH_CLOSE：闭运算，先膨胀后腐蚀。\n",
    "- - cv2.MORPH_GRADIENT：形态学梯度，膨胀后的图像减去腐蚀后的图像。\n",
    "- - cv2.MORPH_TOPHAT：顶帽运算，原图像减去开运算后的图像。\n",
    "- - cv2.MORPH_BLACKHAT：黑帽运算，闭运算后的图像减去原图像。\n",
    "- kernel：形态学操作的核，可以是由 cv2.getStructuringElement() 生成的结构元素，或者直接定义的核数组。\n",
    "- dst：输出图像，可以省略，如果不指定，函数会自动创建一个与 src 相同大小和类型的目标图像。\n",
    "- anchor：锚点位置，默认值是 (-1, -1)，表示锚点位于核的中心。\n",
    "- iterations：形态学操作的迭代次数，默认值为 1。如果设置为更大的数值，操作会被重复执行多次。\n",
    "- borderType：边界类型，用于处理边界扩展，默认值是 cv2.BORDER_CONSTANT。\n",
    "- borderValue：当 borderType 为 cv2.BORDER_CONSTANT 时，用于填充边界像素的值。"
   ]
  },
  {
   "cell_type": "markdown",
   "metadata": {},
   "source": [
    "##### 示例"
   ]
  },
  {
   "cell_type": "markdown",
   "metadata": {},
   "source": [
    "开运算：先腐蚀，再膨胀\n",
    "\n",
    "作用：\n",
    "- 去除比结构元素小的噪声和细节。\n",
    "- 平滑图像，增强边缘。\n",
    "- 填充小空洞。"
   ]
  },
  {
   "cell_type": "code",
   "execution_count": 19,
   "metadata": {},
   "outputs": [],
   "source": [
    "# 开：先腐蚀，再膨胀\n",
    "img = cv2.imread('assets/dige.png')\n",
    "\n",
    "kernel = np.ones((5, 5), np.uint8)\n",
    "opening = cv2.morphologyEx(img, cv2.MORPH_OPEN, kernel)\n",
    "\n",
    "cv_show(\"opening\", opening)"
   ]
  },
  {
   "cell_type": "markdown",
   "metadata": {},
   "source": [
    "闭运算：先膨胀，后腐蚀\n",
    "\n",
    "作用：\n",
    "- 连接图像中的对象。\n",
    "- 填充细小的空洞。\n",
    "- 平滑图像，增强边界。"
   ]
  },
  {
   "cell_type": "code",
   "execution_count": 20,
   "metadata": {},
   "outputs": [],
   "source": [
    "# 闭：先膨胀，再腐蚀\n",
    "closing = cv2.morphologyEx(img, cv2.MORPH_CLOSE, kernel)\n",
    "\n",
    "cv_show('closing', closing)"
   ]
  },
  {
   "cell_type": "markdown",
   "metadata": {},
   "source": [
    "### 形态学中的梯度运算"
   ]
  },
  {
   "cell_type": "markdown",
   "metadata": {},
   "source": [
    "形态学梯度运算是通过形态学膨胀（dilation）和腐蚀（erosion）操作来计算图像中的边缘。</br>形态学梯度运算可以突出显示图像中的边缘，因为它反映了图像中强度的快速变化。</br>\n",
    "\n",
    "形态学梯度的定义是膨胀后的图像减去腐蚀后的图像（梯度=膨胀-腐蚀）。</br>具体来说，形态学梯度操作会增大前景对象的大小，同时保持其边缘清晰，这有助于检测图像中的边缘。"
   ]
  },
  {
   "cell_type": "code",
   "execution_count": 21,
   "metadata": {},
   "outputs": [],
   "source": [
    "pie = cv2.imread('assets/pie.png')\n",
    "kernel = np.ones((7, 7), np.uint8)\n",
    "dilate = cv2.dilate(pie, kernel)\n",
    "erosion = cv2.erode(pie, kernel)\n",
    "\n",
    "res = np.hstack((pie, dilate, erosion))\n",
    "cv_show('res', res)"
   ]
  },
  {
   "cell_type": "code",
   "execution_count": 24,
   "metadata": {},
   "outputs": [],
   "source": [
    "# 梯度 = 膨胀-腐蚀\n",
    "gradient_1 = dilate - erosion\n",
    "cv_show('gradient_1', gradient_1)"
   ]
  },
  {
   "cell_type": "code",
   "execution_count": 25,
   "metadata": {},
   "outputs": [],
   "source": [
    "gradient_2 = cv2.morphologyEx(pie, cv2.MORPH_GRADIENT, kernel)\n",
    "cv_show('gradient_2', gradient_2)"
   ]
  },
  {
   "cell_type": "markdown",
   "metadata": {},
   "source": [
    "### 礼帽与黑帽"
   ]
  },
  {
   "cell_type": "markdown",
   "metadata": {},
   "source": [
    "- 礼帽 = 原始输入 - 开运算结果 = 原始输入 - 先腐蚀后膨胀\n",
    "- 黑帽 = 闭运算结果 - 原始输入 = 先膨胀后腐蚀 - 原始输入"
   ]
  },
  {
   "cell_type": "markdown",
   "metadata": {},
   "source": [
    "礼帽（Top Hat）操作可以用来突出显示图像中比周围区域亮的区域，或者说是原图像中被开运算“削掉”的部分</br>\n",
    "\n",
    "礼帽操作常用于以下情况：\n",
    "\n",
    "- 突出显示图像中的小而亮的目标。\n",
    "- 在背景较暗而目标较亮的情况下，用于增强目标的对比度。"
   ]
  },
  {
   "cell_type": "markdown",
   "metadata": {},
   "source": [
    "黑帽（Black Hat）操作可以用来突出显示图像中比周围区域暗的区域，或者说是原图像中被闭运算“填充”的部分</br>\n",
    "\n",
    "黑帽操作常用于以下情况：\n",
    "\n",
    "- 突出显示图像中的小而暗的目标。\n",
    "- 在背景较亮而目标较暗的情况下，用于增强目标的对比度。"
   ]
  },
  {
   "cell_type": "code",
   "execution_count": 27,
   "metadata": {},
   "outputs": [],
   "source": [
    "# 礼帽 = 原始输入 - 开运算\n",
    "img = cv2.imread('assets/dige.png')\n",
    "kernel = np.ones((7, 7), np.uint8)\n",
    "tophat = cv2.morphologyEx(img, cv2.MORPH_TOPHAT, kernel)\n",
    "cv_show('tophat', tophat)"
   ]
  },
  {
   "cell_type": "code",
   "execution_count": 28,
   "metadata": {},
   "outputs": [],
   "source": [
    "# 黑帽 = 闭运算 - 原始输入\n",
    "img = cv2.imread('assets/dige.png')\n",
    "kernel = np.ones((7, 7), np.uint8)\n",
    "blackhat = cv2.morphologyEx(img, cv2.MORPH_BLACKHAT, kernel)\n",
    "cv_show('blackhat', blackhat)"
   ]
  }
 ],
 "metadata": {
  "kernelspec": {
   "display_name": "Python 3",
   "language": "python",
   "name": "python3"
  },
  "language_info": {
   "codemirror_mode": {
    "name": "ipython",
    "version": 3
   },
   "file_extension": ".py",
   "mimetype": "text/x-python",
   "name": "python",
   "nbconvert_exporter": "python",
   "pygments_lexer": "ipython3",
   "version": "3.9.18"
  }
 },
 "nbformat": 4,
 "nbformat_minor": 2
}
