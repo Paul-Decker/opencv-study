{
 "cells": [
  {
   "cell_type": "code",
   "execution_count": 2,
   "metadata": {},
   "outputs": [],
   "source": [
    "import cv2 #opencv读取的格式是BGR\n",
    "import numpy as np\n",
    "import matplotlib.pyplot as plt #Matplotlib是RGB\n",
    "%matplotlib inline \n",
    "\n",
    "def cv_show(name, img):\n",
    "    cv2.imshow(name, img)\n",
    "    cv2.waitKey(0)\n",
    "    cv2.destroyAllWindows()"
   ]
  },
  {
   "cell_type": "markdown",
   "metadata": {},
   "source": [
    "### 颜色空间转换：cv2.cvtColor()"
   ]
  },
  {
   "cell_type": "markdown",
   "metadata": {},
   "source": [
    "cv2.cvtColor 函数是 OpenCV 库中的一个函数，用于将图像从一种颜色空间转换到另一种颜色空间。</br>颜色空间转换是图像处理中的一个常见操作，比如将彩色图像转换为灰度图像，或者在不同的颜色空间之间进行转换。"
   ]
  },
  {
   "cell_type": "markdown",
   "metadata": {},
   "source": [
    "##### dst = cv2.cvtColor(src, code)"
   ]
  },
  {
   "cell_type": "markdown",
   "metadata": {},
   "source": [
    "参数：</br>\n",
    "- src：表示输入图像，它可以是任何维度的数组（灰度图像、彩色图像等）。\n",
    "- code：表示颜色空间转换的代码，即从哪种颜色空间转换到哪种颜色空间。这个参数是一个预定义的常量，它指定了转换的类型。\n",
    "- - cv2.COLOR_BGR2RGB：将 BGR（蓝、绿、红）颜色空间转换为 RGB（红、绿、蓝）颜色空间。\n",
    "- - cv2.COLOR_RGB2BGR：将 RGB 颜色空间转换为 BGR 颜色空间。\n",
    "- - cv2.COLOR_BGR2GRAY：将 BGR 颜色空间转换为灰度图像。\n",
    "- - cv2.COLOR_GRAY2BGR：将灰度图像转换为 BGR 颜色空间。\n",
    "- - cv2.COLOR_BGR2HSV：将 BGR 颜色空间转换为 HSV（色相、饱和度、亮度）颜色空间。\n",
    "- - cv2.COLOR_BGR2Lab：将 BGR 颜色空间转换为 CIE Lab 颜色空间。\n",
    "- - cv2.COLOR_BGR2LUV：将 BGR 颜色空间转换为 CIE LUV 颜色空间。"
   ]
  },
  {
   "cell_type": "markdown",
   "metadata": {},
   "source": [
    "返回值：</br>\n",
    "dst 是转换后的图像。"
   ]
  },
  {
   "cell_type": "markdown",
   "metadata": {},
   "source": [
    "##### BGR转为灰度图"
   ]
  },
  {
   "cell_type": "code",
   "execution_count": 6,
   "metadata": {},
   "outputs": [
    {
     "name": "stdout",
     "output_type": "stream",
     "text": [
      "(414, 500)\n"
     ]
    }
   ],
   "source": [
    "img = cv2.imread('assets/cat.jpg')\n",
    "img_gray = cv2.cvtColor(img, cv2.COLOR_BGR2GRAY)\n",
    "print(gray_img.shape)\n",
    "\n",
    "cv_show('gray_cat', img_gray)"
   ]
  },
  {
   "cell_type": "markdown",
   "metadata": {},
   "source": [
    "##### BGR转为HSV"
   ]
  },
  {
   "cell_type": "code",
   "execution_count": 5,
   "metadata": {},
   "outputs": [
    {
     "name": "stdout",
     "output_type": "stream",
     "text": [
      "(414, 500, 3)\n"
     ]
    }
   ],
   "source": [
    "hsv_img = cv2.cvtColor(img, cv2.COLOR_BGR2HSV)\n",
    "print(hsv_img.shape)\n",
    "\n",
    "cv_show('hsv', hsv_img)"
   ]
  }
 ],
 "metadata": {
  "kernelspec": {
   "display_name": "Python 3",
   "language": "python",
   "name": "python3"
  },
  "language_info": {
   "codemirror_mode": {
    "name": "ipython",
    "version": 3
   },
   "file_extension": ".py",
   "mimetype": "text/x-python",
   "name": "python",
   "nbconvert_exporter": "python",
   "pygments_lexer": "ipython3",
   "version": "3.9.18"
  }
 },
 "nbformat": 4,
 "nbformat_minor": 2
}
