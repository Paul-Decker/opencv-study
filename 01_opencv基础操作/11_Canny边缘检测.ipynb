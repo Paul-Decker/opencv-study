{
 "cells": [
  {
   "cell_type": "code",
   "execution_count": 2,
   "metadata": {},
   "outputs": [],
   "source": [
    "import cv2\n",
    "import numpy as np \n",
    "import matplotlib.pyplot as plt \n",
    "%matplotlib inline\n",
    "\n",
    "def cv_show(name, img):\n",
    "    cv2.imshow(name, img)\n",
    "    cv2.waitKey(0)\n",
    "    cv2.destroyAllWindows()"
   ]
  },
  {
   "cell_type": "markdown",
   "metadata": {},
   "source": [
    "### Canny边缘检测"
   ]
  },
  {
   "cell_type": "markdown",
   "metadata": {},
   "source": [
    "Canny边缘检测是一种经典的边缘检测方法，它旨在提供高精度的边缘检测，同时尽量减少错误检测的边缘数量。"
   ]
  },
  {
   "cell_type": "markdown",
   "metadata": {},
   "source": [
    "Canny边缘检测算法步骤：</br>\n",
    "1)    使用高斯滤波器，以平滑图像，滤除噪声（去噪）。\n",
    "\n",
    "2)    计算图像的一阶和二阶导数，以确定边缘的方向和强度。\n",
    "\n",
    "3)    应用非极大值（Non-Maximum Suppression）抑制，以消除边缘检测带来的杂散响应，保留边缘方向上的最大强度值。\n",
    "\n",
    "4)    应用双阈值（Double-Threshold）检测来确定真实的和潜在的边缘（强边缘和弱边缘）。\n",
    "\n",
    "5)    通过抑制孤立的弱边缘最终完成边缘检测。使用滞后阈值（Hysteresis Thresholding）来连接弱边缘并排除非边缘。"
   ]
  },
  {
   "cell_type": "markdown",
   "metadata": {},
   "source": [
    "##### 原理解释："
   ]
  },
  {
   "cell_type": "markdown",
   "metadata": {},
   "source": [
    "1. 使用高斯滤波器去噪"
   ]
  },
  {
   "cell_type": "markdown",
   "metadata": {},
   "source": [
    "<img src='assets/canny_1.png' />"
   ]
  },
  {
   "cell_type": "markdown",
   "metadata": {},
   "source": [
    "2. 计算梯度强度和方向"
   ]
  },
  {
   "cell_type": "markdown",
   "metadata": {},
   "source": [
    "<img src='assets/canny_2.png' />"
   ]
  },
  {
   "cell_type": "markdown",
   "metadata": {},
   "source": [
    "上图中，Sx和Sy分别Sobel算子的两个核，而Gx和Gy分别表示原图在水平和垂直方向上的梯度"
   ]
  },
  {
   "cell_type": "markdown",
   "metadata": {},
   "source": [
    "3. 非极大值抑制"
   ]
  },
  {
   "cell_type": "markdown",
   "metadata": {},
   "source": [
    "非极大值抑制方法1："
   ]
  },
  {
   "cell_type": "markdown",
   "metadata": {},
   "source": [
    "<img src='assets/canny_3.png' />"
   ]
  },
  {
   "cell_type": "markdown",
   "metadata": {},
   "source": [
    "非极大值抑制方法2："
   ]
  },
  {
   "cell_type": "markdown",
   "metadata": {},
   "source": [
    "<img src='assets/canny_4.png' />"
   ]
  },
  {
   "cell_type": "markdown",
   "metadata": {},
   "source": [
    "4. 双阈值检测"
   ]
  },
  {
   "cell_type": "markdown",
   "metadata": {},
   "source": [
    "<img src='assets/canny_5.png' />"
   ]
  },
  {
   "cell_type": "markdown",
   "metadata": {},
   "source": [
    "##### edges = cv2.Canny(image, threshold1, threshold2)"
   ]
  },
  {
   "cell_type": "markdown",
   "metadata": {},
   "source": [
    "参数：</br>\n",
    "- image：输入图像，可以是灰度图像或者彩色图像。如果是彩色图像，会先将其转换为灰度图像。\n",
    "- threshold1：低阈值，用于确定边缘的强度。低于这个阈值的边缘会被视为弱边缘。\n",
    "- threshold2：高阈值，用于确定边缘的强度。高于这个阈值的边缘会被视为强边缘。通常，高阈值是低阈值的两倍。"
   ]
  },
  {
   "cell_type": "markdown",
   "metadata": {},
   "source": [
    "返回值：</br>\n",
    "- 返回值 edges 是应用了 Canny 边缘检测后的图像，其中边缘以白色显示，非边缘区域以黑色显示"
   ]
  },
  {
   "cell_type": "markdown",
   "metadata": {},
   "source": [
    "##### 示例"
   ]
  },
  {
   "cell_type": "code",
   "execution_count": 10,
   "metadata": {},
   "outputs": [],
   "source": [
    "img = cv2.imread('assets/lena.jpg', cv2.IMREAD_GRAYSCALE)\n",
    "\n",
    "v1 = cv2.Canny(img, threshold1=80, threshold2=150)\n",
    "v2 = cv2.Canny(img, threshold1=50, threshold2=100)\n",
    "\n",
    "res = np.hstack((img, v1, v2))\n",
    "cv_show('', res)"
   ]
  },
  {
   "cell_type": "code",
   "execution_count": 4,
   "metadata": {},
   "outputs": [],
   "source": [
    "img = cv2.imread('assets/car.png', cv2.IMREAD_GRAYSCALE)\n",
    "\n",
    "v1 = cv2.Canny(img, threshold1=120, threshold2=250)\n",
    "v2 = cv2.Canny(img, threshold1=50, threshold2=100)\n",
    "\n",
    "res = np.hstack((v1, v2))\n",
    "cv_show('', res)"
   ]
  }
 ],
 "metadata": {
  "kernelspec": {
   "display_name": "Python 3",
   "language": "python",
   "name": "python3"
  },
  "language_info": {
   "codemirror_mode": {
    "name": "ipython",
    "version": 3
   },
   "file_extension": ".py",
   "mimetype": "text/x-python",
   "name": "python",
   "nbconvert_exporter": "python",
   "pygments_lexer": "ipython3",
   "version": "3.9.18"
  }
 },
 "nbformat": 4,
 "nbformat_minor": 2
}
