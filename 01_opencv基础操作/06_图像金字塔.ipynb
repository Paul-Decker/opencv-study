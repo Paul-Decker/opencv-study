{
 "cells": [
  {
   "cell_type": "code",
   "execution_count": null,
   "metadata": {},
   "outputs": [],
   "source": [
    "import cv2\n",
    "import numpy as np \n",
    "import matplotlib.pyplot as plt \n",
    "%matplotlib inline\n",
    "\n",
    "def cv_show(name, img):\n",
    "    cv2.imshow(name, img)\n",
    "    cv2.waitKey(0)\n",
    "    cv2.destroyAllWindows()"
   ]
  },
  {
   "cell_type": "markdown",
   "metadata": {},
   "source": [
    "### 图像金字塔"
   ]
  },
  {
   "cell_type": "markdown",
   "metadata": {},
   "source": [
    "图像金字塔是一种多分辨率表示方法，它将原始图像分解为多个**不同分辨率**的图像层。</br>每一层都是原始图像的一个缩小版本，并且包含了原始图像的某些信息。</br>图像金字塔可以用于许多图像处理任务，例如图像缩放、特征提取、图像增强和图像匹配等。"
   ]
  },
  {
   "cell_type": "markdown",
   "metadata": {},
   "source": [
    "- 高斯金字塔\n",
    "- 拉普拉斯金字塔"
   ]
  },
  {
   "cell_type": "markdown",
   "metadata": {},
   "source": [
    "图像金字塔的主要组成部分是金字塔的底层（也称为原图或原始图像），以及通过不同级别的下采样（或上采样）得到的多个图像层。</br>下采样是指将图像的分辨率降低，而上采样则是将图像的分辨率提高。"
   ]
  },
  {
   "cell_type": "markdown",
   "metadata": {},
   "source": [
    "<img src='assets/Pyramid_1.png' />"
   ]
  },
  {
   "cell_type": "markdown",
   "metadata": {},
   "source": [
    "图像金字塔的构建通常采用以下步骤：</br>\n",
    "\n",
    "1. 初始化：从原始图像开始，将其作为金字塔的底层。\n",
    "2. 下采样：对底层图像应用低通滤波器（如高斯滤波器），然后将图像的分辨率降低一半。这个过程可以重复多次，每次都生成一3个新的图像层，并将其添加到金字塔中。\n",
    "3. 构建：通过重复下采样过程，构建出一个由多个图像层组成的金字塔。最底层是原始图像，最顶层是分辨率最低的图像。"
   ]
  },
  {
   "cell_type": "markdown",
   "metadata": {},
   "source": [
    "图像金字塔的每一层都包含有用的信息，但不同层的分辨率不同。</br>在处理图像时，可以根据需要选择金字塔中的不同层来获得所需的信息。例如，在进行图像匹配时，可以使用金字塔的高层图像（低分辨率）来搜索相似的物体，因为高层图像包含更少的细节，有利于在更大范围内搜索。而在需要高精度图像分析时，则可以利用金字塔的底层图像（高分辨率），因为它包含更多的细节信息。"
   ]
  },
  {
   "cell_type": "markdown",
   "metadata": {},
   "source": [
    "#### 高斯金字塔：向下采样方法（缩小）cv2.pyrDown()"
   ]
  },
  {
   "cell_type": "markdown",
   "metadata": {},
   "source": [
    "cv2.pyrDown() 函数是 OpenCV 库中的一个函数，用于对图像进行下采样，即降低图像的分辨率。这个过程通常在构建图像金字塔时使用，用于从高分辨率图像创建低分辨率图像层。"
   ]
  },
  {
   "cell_type": "markdown",
   "metadata": {},
   "source": [
    "<img src='assets/Pyramid_2.png' /> "
   ]
  },
  {
   "cell_type": "markdown",
   "metadata": {},
   "source": [
    "##### dst = cv2.pyrDown(src)"
   ]
  },
  {
   "cell_type": "markdown",
   "metadata": {},
   "source": [
    "参数：</br>\n",
    "- src：输入图像，可以是灰度图像或者彩色图像。\n",
    "- dst：输出图像，是 src 的下采样结果，其大小是 src 大小的四分之一。"
   ]
  },
  {
   "cell_type": "markdown",
   "metadata": {},
   "source": [
    "#### 高斯金字塔：向上采样方法（放大）cv2.pyrUp()"
   ]
  },
  {
   "cell_type": "markdown",
   "metadata": {},
   "source": [
    "cv2.pyrUp() 函数是 OpenCV 库中的一个函数，用于对图像进行上采样，即提高图像的分辨率。这个过程通常在图像金字塔的重建中使用，用于从低分辨率图像创建高分辨率图像层。"
   ]
  },
  {
   "cell_type": "markdown",
   "metadata": {},
   "source": [
    "<img src='assets/Pyramid_3.png' />"
   ]
  },
  {
   "cell_type": "markdown",
   "metadata": {},
   "source": [
    "##### dst = cv2.pyrUp(src)"
   ]
  },
  {
   "cell_type": "markdown",
   "metadata": {},
   "source": [
    "参数：</br>\n",
    "- src：输入图像，通常是金字塔中的低分辨率图像。\n",
    "- dst：输出图像，是 src 的上采样结果，其大小是 src 大小的两倍。"
   ]
  },
  {
   "cell_type": "code",
   "execution_count": 21,
   "metadata": {},
   "outputs": [
    {
     "name": "stdout",
     "output_type": "stream",
     "text": [
      "(2, 2)\n",
      "10.0\t30.0\t\n",
      "\n",
      "56.0\t96.0\t\n",
      "\n",
      "(4, 4)\n",
      "27.75\t34.0\t43.375\t46.5\t\n",
      "\n",
      "40.5\t48.0\t59.25\t63.0\t\n",
      "\n",
      "59.625\t69.0\t83.0625\t87.75\t\n",
      "\n",
      "66.0\t76.0\t91.0\t96.0\t\n",
      "\n"
     ]
    }
   ],
   "source": [
    "n = np.zeros((2, 2))\n",
    "n[0, 0] = 10\n",
    "n[0, 1] = 30\n",
    "n[1, 0] = 56\n",
    "n[1, 1] = 96\n",
    "print(n.shape)\n",
    "for i in range(2):\n",
    "    for j in range(2):\n",
    "        print(n[i, j], end='\\t')\n",
    "    print('\\n')\n",
    "    \n",
    "up = cv2.pyrUp(n)\n",
    "\n",
    "print(up.shape)\n",
    "for i in range(4):\n",
    "    for j in range(4):\n",
    "        print(up[i, j], end='\\t')\n",
    "    print('\\n')"
   ]
  },
  {
   "cell_type": "markdown",
   "metadata": {},
   "source": [
    "#### 示例"
   ]
  },
  {
   "cell_type": "code",
   "execution_count": 24,
   "metadata": {},
   "outputs": [
    {
     "name": "stdout",
     "output_type": "stream",
     "text": [
      "(442, 340, 3)\n"
     ]
    }
   ],
   "source": [
    "img = cv2.imread('assets/AM.png')\n",
    "cv_show('original', img)\n",
    "print(img.shape)"
   ]
  },
  {
   "cell_type": "code",
   "execution_count": 25,
   "metadata": {},
   "outputs": [
    {
     "name": "stdout",
     "output_type": "stream",
     "text": [
      "(221, 170, 3)\n"
     ]
    }
   ],
   "source": [
    "down = cv2.pyrDown(img)\n",
    "cv_show('down', down)\n",
    "print(down.shape)"
   ]
  },
  {
   "cell_type": "code",
   "execution_count": 26,
   "metadata": {},
   "outputs": [
    {
     "name": "stdout",
     "output_type": "stream",
     "text": [
      "(884, 680, 3)\n"
     ]
    }
   ],
   "source": [
    "up = cv2.pyrUp(img)\n",
    "cv_show('up', up)\n",
    "print(up.shape)"
   ]
  },
  {
   "cell_type": "code",
   "execution_count": 27,
   "metadata": {},
   "outputs": [
    {
     "name": "stdout",
     "output_type": "stream",
     "text": [
      "(1768, 1360, 3)\n"
     ]
    }
   ],
   "source": [
    "up2 = cv2.pyrUp(up)\n",
    "cv_show('up2', up2)\n",
    "print(up2.shape)"
   ]
  },
  {
   "cell_type": "code",
   "execution_count": 29,
   "metadata": {},
   "outputs": [
    {
     "name": "stdout",
     "output_type": "stream",
     "text": [
      "(442, 340, 3)\n"
     ]
    }
   ],
   "source": [
    "up = cv2.pyrUp(img)\n",
    "up_down = cv2.pyrDown(up)\n",
    "res = np.hstack((img, up_down))\n",
    "cv_show('img vs up_down', res)\n",
    "print(up_down.shape)"
   ]
  },
  {
   "cell_type": "markdown",
   "metadata": {},
   "source": [
    "#### 拉普拉斯金字塔"
   ]
  },
  {
   "cell_type": "markdown",
   "metadata": {},
   "source": [
    "拉普拉斯金字塔（Laplacian Pyramid）是一种多分辨率图像表示方法，它将原始图像分解为多个不同分辨率的图像层，这些层包含着原始图像的低频和高频信息。拉普拉斯金字塔与高斯金字塔（Gaussian Pyramid）相似，但它们在某些方面有所不同。"
   ]
  },
  {
   "cell_type": "markdown",
   "metadata": {},
   "source": [
    "拉普拉斯金字塔的构建通常包括以下步骤：</br>\n",
    "\n",
    "1. 初始化：从原始图像开始，将其作为金字塔的底层。\n",
    "2. 下采样：对底层图像应用高斯模糊（Gaussian Blur），然后将图像的分辨率降低一半。这个过程可以重复多次，每次都生成一个新的图像层，并将其添加到金字塔中。\n",
    "3. 计算拉普拉斯差分：对于金字塔中的每一层，计算拉普拉斯差分，即将该层与相邻的下层图像进行相减。这个差分层包含了原始图像中的高频信息。"
   ]
  },
  {
   "cell_type": "markdown",
   "metadata": {},
   "source": [
    "<img src='assets/Pyramid_4.png' />"
   ]
  },
  {
   "cell_type": "code",
   "execution_count": 30,
   "metadata": {},
   "outputs": [],
   "source": [
    "down = cv2.pyrDown(img)\n",
    "down_up = cv2.pyrUp(down)\n",
    "# 拉普拉斯金字塔第1层\n",
    "l_1 = img - down_up\n",
    "cv_show('', l_1)"
   ]
  }
 ],
 "metadata": {
  "kernelspec": {
   "display_name": "Python 3",
   "language": "python",
   "name": "python3"
  },
  "language_info": {
   "codemirror_mode": {
    "name": "ipython",
    "version": 3
   },
   "file_extension": ".py",
   "mimetype": "text/x-python",
   "name": "python",
   "nbconvert_exporter": "python",
   "pygments_lexer": "ipython3",
   "version": "3.9.18"
  }
 },
 "nbformat": 4,
 "nbformat_minor": 2
}
