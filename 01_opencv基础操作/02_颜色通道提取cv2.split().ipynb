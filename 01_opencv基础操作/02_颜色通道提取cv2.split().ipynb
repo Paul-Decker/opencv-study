{
 "cells": [
  {
   "cell_type": "code",
   "execution_count": null,
   "metadata": {},
   "outputs": [],
   "source": [
    "import cv2\n",
    "import matplotlib.pyplot as plt\n",
    "import numpy as np \n",
    "%matplotlib inline "
   ]
  },
  {
   "cell_type": "markdown",
   "metadata": {},
   "source": [
    "### 颜色通道提取：cv2.split()"
   ]
  },
  {
   "cell_type": "markdown",
   "metadata": {},
   "source": [
    "mv = cv2.split(img)</br>\n",
    "用于将多通道图像分割成单独的颜色通道"
   ]
  },
  {
   "cell_type": "markdown",
   "metadata": {},
   "source": [
    "返回值:</br>\n",
    "- 返回一个包含输入图像每个通道的 numpy 数组的列表。对于三通道的彩色图像，这个列表将包含三个数组，分别对应蓝色、绿色和红色通道。"
   ]
  },
  {
   "cell_type": "code",
   "execution_count": null,
   "metadata": {},
   "outputs": [],
   "source": [
    "img = cv2.imread('assets/cat.jpg')\n",
    "# 注意在opencv中的默认通道顺序为BGR\n",
    "b, g, r = cv2.split(img)"
   ]
  },
  {
   "cell_type": "code",
   "execution_count": null,
   "metadata": {},
   "outputs": [
    {
     "data": {
      "text/plain": [
       "(414, 500)"
      ]
     },
     "metadata": {},
     "output_type": "display_data"
    }
   ],
   "source": [
    "b.shape"
   ]
  },
  {
   "cell_type": "code",
   "execution_count": null,
   "metadata": {},
   "outputs": [],
   "source": [
    "# 合并\n",
    "img3 = cv2.merge((b, g, r))\n",
    "cv_show('img3', img3)"
   ]
  },
  {
   "cell_type": "code",
   "execution_count": null,
   "metadata": {},
   "outputs": [],
   "source": [
    "# 只保留R\n",
    "cur_img = img.copy()\n",
    "# 将图像的BG通道都设置为0，只保留R通道\n",
    "cur_img[:, :, 0] = 0 \n",
    "cur_img[:, :, 1] = 0\n",
    "cv_show('red', cur_img)\n",
    "''' \n",
    "只保留B或G通道时操作相同\n",
    "'''"
   ]
  }
 ],
 "metadata": {
  "language_info": {
   "name": "python"
  }
 },
 "nbformat": 4,
 "nbformat_minor": 2
}
