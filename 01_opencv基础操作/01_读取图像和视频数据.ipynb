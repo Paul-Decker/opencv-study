{
 "cells": [
  {
   "cell_type": "markdown",
   "metadata": {},
   "source": [
    "### 数据读取（图像）：cv2.imread()"
   ]
  },
  {
   "cell_type": "markdown",
   "metadata": {},
   "source": [
    "img = cv2.imread(filename, flags)"
   ]
  },
  {
   "cell_type": "markdown",
   "metadata": {},
   "source": [
    "参数:</br>\n",
    "- filename：一个字符串，指定要加载的图像文件的路径。\n",
    "- flags：一个可选参数，用于指定如何读取图像。它可以是以下几种标志之一：\n",
    "- - cv2.IMREAD_COLOR：加载彩色图像。这是默认标志，其值为 1。\n",
    "- - cv2.IMREAD_GRAYSCALE：以灰度模式加载图像，值为 0。\n",
    "- - cv2.IMREAD_UNCHANGED：加载图像，包括 alpha 通道（如果存在），值为 -1。"
   ]
  },
  {
   "cell_type": "markdown",
   "metadata": {},
   "source": [
    "返回值:</br>\n",
    "- img：返回一个 NumPy 数组（图像矩阵），表示加载的图像。如果文件读取失败，则返回 None。"
   ]
  },
  {
   "cell_type": "code",
   "execution_count": 2,
   "metadata": {},
   "outputs": [],
   "source": [
    "import cv2\n",
    "import matplotlib.pyplot as plt\n",
    "import numpy as np \n",
    "%matplotlib inline "
   ]
  },
  {
   "cell_type": "code",
   "execution_count": 3,
   "metadata": {},
   "outputs": [],
   "source": [
    "# 从指定路径加载图片，得到的是一个三维图像矩阵[high, width, channel]\n",
    "img = cv2.imread('assets/cat.jpg')"
   ]
  },
  {
   "cell_type": "markdown",
   "metadata": {},
   "source": [
    "值得注意的是：opencv读取的图片颜色通道为BGR（不是RGB）"
   ]
  },
  {
   "cell_type": "code",
   "execution_count": 4,
   "metadata": {},
   "outputs": [
    {
     "data": {
      "text/plain": [
       "(414, 500, 3)"
      ]
     },
     "execution_count": 4,
     "metadata": {},
     "output_type": "execute_result"
    }
   ],
   "source": [
    "img.shape"
   ]
  },
  {
   "cell_type": "code",
   "execution_count": 5,
   "metadata": {},
   "outputs": [],
   "source": [
    "# 创建一个窗口显示图像\n",
    "#   winname参数：设置窗口的名称\n",
    "#   mat参数：显示图像的图像矩阵\n",
    "cv2.imshow(winname='image', mat=img)\n",
    "\n",
    "# delay: 这是一个可选参数，表示等待键盘事件的毫秒数\n",
    "# - delay 大于 0，函数将等待 delay 毫秒，在这段时间内，如果用户按下任意键，函数将返回该键的 ASCII 码值，并且程序将继续执行。\n",
    "# - delay 等于 0，函数将无限期等待，直到用户按下任意键。\n",
    "# - delay 小于 0，函数将不等待，立即返回。\n",
    "cv2.waitKey(delay=0)\n",
    "\n",
    "# 关闭所有之前由 OpenCV 创建的窗口\n",
    "cv2.destroyAllWindows()"
   ]
  },
  {
   "cell_type": "code",
   "execution_count": 6,
   "metadata": {},
   "outputs": [],
   "source": [
    "# 三个函数一般都搭配使用，这里直接封装为一个函数\n",
    "def cv_show(name, img):\n",
    "    cv2.imshow(name, img)\n",
    "    cv2.waitKey(delay=0)\n",
    "    cv2.destroyAllWindows()"
   ]
  },
  {
   "cell_type": "code",
   "execution_count": 7,
   "metadata": {},
   "outputs": [],
   "source": [
    "''' \n",
    "flags参数：指定如何读取图像。\n",
    "    若不指定flags参数，默认为cv2.IMREAD_COLOR（彩色图像）\n",
    "'''\n",
    "# 加载图像并转化为单通道的灰度图\n",
    "img2 = cv2.imread('assets/cat.jpg', flags=cv2.IMREAD_GRAYSCALE)\n",
    "cv_show('gray scale', img2)"
   ]
  },
  {
   "cell_type": "markdown",
   "metadata": {},
   "source": [
    "图像保存cv2.imwrite()"
   ]
  },
  {
   "cell_type": "code",
   "execution_count": 8,
   "metadata": {},
   "outputs": [
    {
     "data": {
      "text/plain": [
       "True"
      ]
     },
     "execution_count": 8,
     "metadata": {},
     "output_type": "execute_result"
    }
   ],
   "source": [
    "# filename参数：图像名（路径）\n",
    "# img参数：待保存的图像矩阵\n",
    "cv2.imwrite('assets/cat_gray.jpg', img2)"
   ]
  },
  {
   "cell_type": "markdown",
   "metadata": {},
   "source": [
    "### 数据读取（视频）：cv2.VideoCapture()"
   ]
  },
  {
   "cell_type": "markdown",
   "metadata": {},
   "source": [
    "\n",
    "cv2.VideoCapture() 是 OpenCV 库中的一个函数，用于捕获视频流或读取视频文件"
   ]
  },
  {
   "cell_type": "markdown",
   "metadata": {},
   "source": [
    "cap = cv2.VideoCapture(filename_or_camera_index)"
   ]
  },
  {
   "cell_type": "markdown",
   "metadata": {},
   "source": [
    "参数:</br>\n",
    "- filename_or_camera_index：这是一个字符串或整数参数，用来指定视频文件的路径或摄像头的索引号。</br>\n",
    "如果传递的是一个字符串，它应该是视频文件的路径，例如 \"video.mp4\"。</br>\n",
    "如果传递的是一个整数，它表示摄像头的索引号。通常，0 表示默认的摄像头。\n"
   ]
  },
  {
   "cell_type": "markdown",
   "metadata": {},
   "source": [
    "返回值:</br>\n",
    "- cap：返回一个 VideoCapture 对象，这个对象可以用来读取视频帧。"
   ]
  },
  {
   "cell_type": "markdown",
   "metadata": {},
   "source": [
    "功能:</br>\n",
    "- 当传递视频文件路径时，cv2.VideoCapture() 用于打开视频文件并准备读取。\n",
    "- 当传递摄像头索引时，它用于打开指定的摄像头并准备捕获实时视频流。"
   ]
  },
  {
   "cell_type": "code",
   "execution_count": 9,
   "metadata": {},
   "outputs": [],
   "source": [
    "vc = cv2.VideoCapture('assets/test.mp4')"
   ]
  },
  {
   "cell_type": "code",
   "execution_count": 10,
   "metadata": {},
   "outputs": [],
   "source": [
    "# 检查是否打开正确\n",
    "if vc.isOpened():\n",
    "    # read()方法读取视频流中读取下一帧\n",
    "    #   第一个返回值为布尔值，表示是否成功读取了帧\n",
    "    #   第二个返回值为ndarray数组（图像矩阵），它包含了读取到的帧的像素数据\n",
    "    open, frame = vc.read()\n",
    "    # 显示帧\n",
    "    cv_show('video', frame)\n",
    "else:\n",
    "    open = False"
   ]
  },
  {
   "cell_type": "code",
   "execution_count": 11,
   "metadata": {},
   "outputs": [],
   "source": [
    "while open:\n",
    "    ret, frame = vc.read()\n",
    "    if frame is None:\n",
    "        print('ret: ', ret, '   frame: ', frame)\n",
    "        break\n",
    "\n",
    "    # 将一帧转化为灰度图\n",
    "    gray = cv2.cvtColor(frame, cv2.COLOR_BGR2GRAY)\n",
    "    cv2.imshow('video', gray)\n",
    "    # 控制视频的播放速度（10ms/帧），设置视频播放时按esc键时退出\n",
    "    if cv2.waitKey(10) & 0xFF == 27:\n",
    "        break\n",
    "    '''\n",
    "    # 控制视频的播放速度（1ms/帧），设置视频播放时按'q'键时退出\n",
    "    if cv2.waitKey(1) & 0xFF == ord('q'):\n",
    "        break\n",
    "\n",
    "    & 0xFF  是一个位运算符，用于确保我们只关心返回值的低 8 位\n",
    "            这是因为某些操作系统（如 Windows）可能会返回一个大于 8 位的整数值，\n",
    "            其中包括按键的额外信息（如是否同时按下了 shift 键）。\n",
    "            通过和 0xFF 进行按位与操作，我们可以忽略这些额外的信息，只保留基本的按键 ASCII 码。\n",
    "    '''\n",
    "# 释放 VideoCapture 对象\n",
    "vc.release()\n",
    "# 关闭所有 OpenCV 窗口\n",
    "cv2.destroyAllWindows()"
   ]
  },
  {
   "cell_type": "code",
   "execution_count": 12,
   "metadata": {},
   "outputs": [
    {
     "name": "stdout",
     "output_type": "stream",
     "text": [
      "113\n",
      "q\n"
     ]
    }
   ],
   "source": [
    "# 获取字符的 ASCII 值\n",
    "print(ord('q'))\n",
    "# 获取 ASCII 值对应的字符\n",
    "print(chr(113))"
   ]
  },
  {
   "cell_type": "markdown",
   "metadata": {},
   "source": [
    "### 获取部分图像数据\n",
    "ROI(Region of Interest, 感兴趣区域)"
   ]
  },
  {
   "cell_type": "code",
   "execution_count": 13,
   "metadata": {},
   "outputs": [],
   "source": [
    "img = cv2.imread('assets/cat.jpg')\n",
    "cv_show('img', img)\n",
    "# img:[h, w, c]\n",
    "# 用切片的方式截取图片\n",
    "cat = img[0:400, 0:200]\n",
    "cv_show('cat', cat)"
   ]
  }
 ],
 "metadata": {
  "kernelspec": {
   "display_name": "Python 3",
   "language": "python",
   "name": "python3"
  },
  "language_info": {
   "codemirror_mode": {
    "name": "ipython",
    "version": 3
   },
   "file_extension": ".py",
   "mimetype": "text/x-python",
   "name": "python",
   "nbconvert_exporter": "python",
   "pygments_lexer": "ipython3",
   "version": "3.9.18"
  }
 },
 "nbformat": 4,
 "nbformat_minor": 2
}
