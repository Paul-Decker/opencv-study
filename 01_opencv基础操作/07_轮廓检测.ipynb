{
 "cells": [
  {
   "cell_type": "code",
   "execution_count": 33,
   "metadata": {},
   "outputs": [],
   "source": [
    "import cv2\n",
    "import numpy as np \n",
    "import matplotlib.pyplot as plt \n",
    "%matplotlib inline\n",
    "\n",
    "def cv_show(name, img):\n",
    "    cv2.imshow(name, img)\n",
    "    cv2.waitKey(0)\n",
    "    cv2.destroyAllWindows()"
   ]
  },
  {
   "cell_type": "markdown",
   "metadata": {},
   "source": [
    "# 图像轮廓"
   ]
  },
  {
   "cell_type": "markdown",
   "metadata": {},
   "source": [
    "cv2.findContours() 函数是 OpenCV 库中的一个函数，用于在二值图像中找到轮廓。</br>轮廓是图像中亮度值从亮到暗或者从暗到亮的变化的线段。这些轮廓可以用来识别图像中的对象和形状。"
   ]
  },
  {
   "cell_type": "markdown",
   "metadata": {},
   "source": [
    "##### contours, hierarchy = cv2.findContours(image, mode, method[, offset])"
   ]
  },
  {
   "cell_type": "markdown",
   "metadata": {},
   "source": [
    "参数：</br>\n",
    "- image：输入图像，必须是单通道的，通常是二值图像。\n",
    "- mode：轮廓检索模式，可以是以下几种之一：\n",
    "- - cv2.RETR_EXTERNAL：只检索最外层的轮廓。\n",
    "- - cv2.RETR_LIST：检索所有轮廓，并保存在一条链表中，没有层次关系。\n",
    "- - cv2.RETR_CCOMP：检索所有轮廓及其层次关系，但不包括边界。\n",
    "- - cv2.RETR_TREE：检索所有轮廓及其层次关系，包括边界。\n",
    "- method：轮廓近似方法，可以是以下几种之一：\n",
    "- - cv2.CHAIN_APPROX_NONE：保留所有轮廓点，没有近似。\n",
    "- - cv2.CHAIN_APPROX_SIMPLE：仅保留轮廓点的起始、结束和转折点。\n",
    "- - cv2.CHAIN_APPROX_TC89_L1：使用 Teh-Chin 链码的近似方法。\n",
    "- - cv2.CHAIN_APPROX_TC89_KCOS：使用 Teh-Chin 链码的近似方法。\n",
    "- offset：用于轮廓的偏移量，可以用来将轮廓从原始图像的边界偏移一定的像素。"
   ]
  },
  {
   "cell_type": "markdown",
   "metadata": {},
   "source": [
    "返回值：</br>\n",
    "- contours 是轮廓列表，每个轮廓都是一个由点组成的列表，这些点定义了轮廓的形状。\n",
    "- hierarchy 是一个四元组列表，用于表示每个轮廓与其父轮廓、子轮廓、兄弟轮廓和自身的关系。"
   ]
  },
  {
   "cell_type": "markdown",
   "metadata": {},
   "source": [
    "##### 示例"
   ]
  },
  {
   "cell_type": "markdown",
   "metadata": {},
   "source": [
    "为了更高的准确率，使用二值图像"
   ]
  },
  {
   "cell_type": "code",
   "execution_count": 34,
   "metadata": {},
   "outputs": [],
   "source": [
    "img = cv2.imread('assets/contours.png')\n",
    "# 转化为灰度图\n",
    "gray = cv2.cvtColor(img, cv2.COLOR_BGR2GRAY)\n",
    "# 将灰度图转化为二值图像\n",
    "# type=cv2.THRESH_BINARY：像素值大于阈值thresh时，像素值设置为maxval，否则设置为0\n",
    "ret, thresh = cv2.threshold(gray, thresh=127, maxval=255, type=cv2.THRESH_BINARY)\n",
    "cv_show('', thresh)"
   ]
  },
  {
   "cell_type": "markdown",
   "metadata": {},
   "source": [
    "mode参数一般选用cv2.RETR_TREE</br>\n",
    "method参数一般用cv2.CHAIN_APPROX_NONE或cv2.CHAIN_APPROX_SIMPLE"
   ]
  },
  {
   "cell_type": "code",
   "execution_count": 35,
   "metadata": {},
   "outputs": [],
   "source": [
    "contours, hierarchy = cv2.findContours(thresh, mode=cv2.RETR_TREE, method=cv2.CHAIN_APPROX_NONE)"
   ]
  },
  {
   "cell_type": "markdown",
   "metadata": {},
   "source": [
    "绘制轮廓"
   ]
  },
  {
   "cell_type": "markdown",
   "metadata": {},
   "source": [
    "cv2.drawContours() 函数是 OpenCV 库中的一个函数，用于在图像上绘制轮廓。"
   ]
  },
  {
   "cell_type": "markdown",
   "metadata": {},
   "source": [
    "##### res = cv2.drawContours(image, contours, contour_index, color, thickness[, lineType[, hierarchy]])"
   ]
  },
  {
   "cell_type": "markdown",
   "metadata": {},
   "source": [
    "参数：</br>\n",
    "- image：输入图像，通常是彩色图像。\n",
    "- contours：轮廓列表，其中每个轮廓是一个由点组成的列表，这些点定义了轮廓的形状。\n",
    "- contour_index：轮廓的索引，表示要绘制的轮廓。如果设置为 -1，则绘制所有轮廓。\n",
    "- color：轮廓的颜色，它是一个由三个元素组成的元组，分别代表BGR的值。\n",
    "- thickness：轮廓的厚度，可以是以下几种之一：\n",
    "- - cv2.LINE_8：使用8-连通性来填充轮廓。\n",
    "- - cv2.LINE_AA：使用抗锯齿的线，适用于低分辨率。\n",
    "- - 正值：表示线宽。\n",
    "- - 负值：表示填充轮廓，填充的边界由 thickness 指定。\n",
    "- lineType：线型，默认为 cv2.LINE_8。\n",
    "- hierarchy：轮廓层次信息，如果提供了这个参数，函数会使用轮廓层次信息来正确绘制轮廓。"
   ]
  },
  {
   "cell_type": "markdown",
   "metadata": {},
   "source": [
    "**注意**：函数会直接在输入图像image上绘制轮廓（即原图image会被修改），建议绘制轮廓前先copy保留原图"
   ]
  },
  {
   "cell_type": "markdown",
   "metadata": {},
   "source": [
    "返回值：</br>\n",
    "该函数的返回值res是绘制轮廓后的图像。"
   ]
  },
  {
   "cell_type": "code",
   "execution_count": 36,
   "metadata": {},
   "outputs": [],
   "source": [
    "# 传入绘制图像，轮廓，轮廓索引，颜色模式，线条厚度\n",
    "# 注意需要copy保留原图，否则cv2.drawContours会直接在图像上绘制轮廓\n",
    "draw_img = img.copy()\n",
    "res = cv2.drawContours(draw_img, contours, -1, (0, 0, 255), 2)\n",
    "cv_show('res', res)"
   ]
  },
  {
   "cell_type": "code",
   "execution_count": 37,
   "metadata": {},
   "outputs": [],
   "source": [
    "draw_img = img.copy()\n",
    "res = cv2.drawContours(draw_img, contours, 0, (0, 255, 0), 3)\n",
    "cv_show('res', res)"
   ]
  },
  {
   "cell_type": "markdown",
   "metadata": {},
   "source": [
    "### 轮廓特征"
   ]
  },
  {
   "cell_type": "code",
   "execution_count": 38,
   "metadata": {},
   "outputs": [],
   "source": [
    "cnt = contours[0]"
   ]
  },
  {
   "cell_type": "code",
   "execution_count": 39,
   "metadata": {},
   "outputs": [
    {
     "data": {
      "text/plain": [
       "8500.5"
      ]
     },
     "execution_count": 39,
     "metadata": {},
     "output_type": "execute_result"
    }
   ],
   "source": [
    "# 计算面积（单位：像素）\n",
    "cv2.contourArea(cnt)"
   ]
  },
  {
   "cell_type": "code",
   "execution_count": 40,
   "metadata": {},
   "outputs": [
    {
     "data": {
      "text/plain": [
       "437.9482651948929"
      ]
     },
     "execution_count": 40,
     "metadata": {},
     "output_type": "execute_result"
    }
   ],
   "source": [
    "# 计算周长\n",
    "# 如果 closed 为 True，则函数计算闭合轮廓的周长；如果 closed 为 False，则函数计算轮廓的外边缘长度\n",
    "cv2.arcLength(cnt, closed=True)"
   ]
  },
  {
   "cell_type": "markdown",
   "metadata": {},
   "source": [
    "### 轮廓近似"
   ]
  },
  {
   "cell_type": "markdown",
   "metadata": {},
   "source": [
    "<img src='assets/contours3.png' />"
   ]
  },
  {
   "cell_type": "markdown",
   "metadata": {},
   "source": [
    "cv2.approxPolyDP 函数是 OpenCV 库中的一个函数，用于近似一个多边形轮廓。</br>\n",
    "近似是通过迭代地删除轮廓上的点来实现的，直到达到指定的误差阈值。</br>\n",
    "这个函数在处理多边形形状时非常有用，因为它可以帮助我们简化多边形的边界，从而提高计算效率。"
   ]
  },
  {
   "cell_type": "markdown",
   "metadata": {},
   "source": [
    "##### approx_contour = cv2.approxPolyDP(contour, epsilon, closed)"
   ]
  },
  {
   "cell_type": "markdown",
   "metadata": {},
   "source": [
    "参数：</br>\n",
    "- contour：输入轮廓，它是一个由点组成的列表，这些点定义了轮廓的形状。\n",
    "- epsilon：近似的误差阈值，它决定了轮廓上可以保留的点的最小距离。这个值应该设置得足够小，以保证近似轮廓足够精确，但又足够大，以减少点的数量。\n",
    "- closed：一个布尔值，表示轮廓是否是闭合的。如果 closed 为 True，则函数计算闭合轮廓的近似；如果 closed 为 False，则函数计算轮廓的外边缘长度。"
   ]
  },
  {
   "cell_type": "markdown",
   "metadata": {},
   "source": [
    "返回值：</br>\n",
    "- approx_contour 是近似后的轮廓，它是一个由点组成的列表，这些点定义了近似轮廓的形状。"
   ]
  },
  {
   "cell_type": "code",
   "execution_count": 43,
   "metadata": {},
   "outputs": [],
   "source": [
    "img = cv2.imread('assets/contours2.png')\n",
    "# 转为灰度图\n",
    "gray = cv2.cvtColor(img, cv2.COLOR_BGR2GRAY)\n",
    "# 转为二值图像\n",
    "ret, thresh = cv2.threshold(gray, 127, 255, cv2.THRESH_BINARY)\n",
    "# 轮廓检测\n",
    "contours, hierarchy = cv2.findContours(thresh, cv2.RETR_TREE, cv2.CHAIN_APPROX_NONE)\n",
    "cnt = contours[0]\n",
    "# 绘制轮廓\n",
    "draw_img = img.copy()\n",
    "res = cv2.drawContours(draw_img, [cnt], -1, (0, 0, 255), 2)\n",
    "cv_show('', res)"
   ]
  },
  {
   "cell_type": "code",
   "execution_count": 44,
   "metadata": {},
   "outputs": [],
   "source": [
    "# 设置近似程度的参数（一般是轮廓周长的比率），参数越小则轮廓近似越接近原始轮廓\n",
    "epsilon = 0.1*cv2.arcLength(cnt, closed=True)\n",
    "approx = cv2.approxPolyDP(cnt, epsilon, closed=True)\n",
    "\n",
    "draw_img = img.copy()\n",
    "res = cv2.drawContours(draw_img, [approx], -1, (0, 255, 0), 2)\n",
    "cv_show('', res)"
   ]
  },
  {
   "cell_type": "markdown",
   "metadata": {},
   "source": [
    "#### 外接矩形"
   ]
  },
  {
   "cell_type": "markdown",
   "metadata": {},
   "source": [
    "##### rect = cv2.boundingRect(contour)"
   ]
  },
  {
   "cell_type": "markdown",
   "metadata": {},
   "source": [
    "cv2.boundingRect 函数是 OpenCV 库中的一个函数，用于计算给定轮廓的最小外接矩形。</br>这个矩形是包含轮廓的最小矩形，其边界与轮廓的边界相切。最小外接矩形通常用于定位和分析轮廓。"
   ]
  },
  {
   "cell_type": "markdown",
   "metadata": {},
   "source": [
    "参数：</br>\n",
    "- contour：输入轮廓，它是一个由点组成的列表，这些点定义了轮廓的形状。\n",
    "\n",
    "返回值：</br>\n",
    "\n",
    "该函数的返回值 rect 是包含轮廓的最小外接矩形，它是一个包含四个元素的元组：\n",
    "\n",
    "- x：矩形的左上角 x 坐标。\n",
    "- y：矩形的左上角 y 坐标。\n",
    "- width：矩形的宽度。\n",
    "- height：矩形的高度。"
   ]
  },
  {
   "cell_type": "markdown",
   "metadata": {},
   "source": [
    "##### res = cv2.rectangle(image, pt1, pt2, color[, thickness[, lineType[, shift]]])"
   ]
  },
  {
   "cell_type": "markdown",
   "metadata": {},
   "source": [
    "cv2.rectangle() 函数是 OpenCV 库中的一个函数，用于在图像上绘制一个矩形。</br>这个函数在图像处理和计算机视觉中非常有用，因为它可以帮助我们可视化图像中的特定区域或标记。"
   ]
  },
  {
   "cell_type": "markdown",
   "metadata": {},
   "source": [
    "参数：</br>\n",
    "- image：输入图像，通常是彩色图像。\n",
    "- pt1：矩形的左上角坐标，格式为 (x, y)。\n",
    "- pt2：矩形的右下角坐标，格式为 (x, y)。\n",
    "- color：矩形的颜色，它是一个由三个元素组成的元组，分别代表BGR的值。\n",
    "- thickness：矩形的厚度，可以是以下几种之一：\n",
    "- - cv2.LINE_8：使用8-连通性来绘制矩形。\n",
    "- - cv2.LINE_AA：使用抗锯齿的线，适用于低分辨率。\n",
    "- - 正值：表示线宽。\n",
    "- - 负值：表示填充矩形，填充的边界由 thickness 指定。\n",
    "- lineType：线型，默认为 cv2.LINE_8。\n",
    "- shift：当使用 32 位图像时，shift 参数指定输出图像的深度，默认为 0。"
   ]
  },
  {
   "cell_type": "markdown",
   "metadata": {},
   "source": [
    "返回值：</br>\n",
    "- res是绘制矩形后的图像\n"
   ]
  },
  {
   "cell_type": "markdown",
   "metadata": {},
   "source": [
    "##### 示例"
   ]
  },
  {
   "cell_type": "code",
   "execution_count": 58,
   "metadata": {},
   "outputs": [],
   "source": [
    "img = cv2.imread('assets/contours.png')\n",
    "gray = cv2.cvtColor(img, cv2.COLOR_BGR2GRAY)\n",
    "ret, thresh = cv2.threshold(gray, thresh=127, maxval=255, type=cv2.THRESH_BINARY)\n",
    "contours, hierarchy = cv2.findContours(thresh, cv2.RETR_TREE, cv2.CHAIN_APPROX_NONE)\n",
    "cnt = contours[0]\n",
    "\n",
    "x, y, w, h = cv2.boundingRect(cnt)\n",
    "img = cv2.rectangle(img, (x, y), (x+w, y+h), (255, 0, 0), 2)\n",
    "cv_show('', img)"
   ]
  },
  {
   "cell_type": "markdown",
   "metadata": {},
   "source": [
    "轮廓面积与外接矩形面积的比值"
   ]
  },
  {
   "cell_type": "code",
   "execution_count": 59,
   "metadata": {},
   "outputs": [
    {
     "name": "stdout",
     "output_type": "stream",
     "text": [
      "轮廓面积与外接矩形面积之比： 0.5154317244724715\n"
     ]
    }
   ],
   "source": [
    "area = cv2.contourArea(cnt)\n",
    "x, y, w, h = cv2.boundingRect(cnt)\n",
    "rect_area = w*h\n",
    "extent = float(area) / rect_area\n",
    "print('轮廓面积与外接矩形面积之比：', extent)"
   ]
  },
  {
   "cell_type": "markdown",
   "metadata": {},
   "source": [
    "##### 外接圆"
   ]
  },
  {
   "cell_type": "markdown",
   "metadata": {},
   "source": [
    "##### (x, y), radius = cv2.minEnclosingCircle(contour)"
   ]
  },
  {
   "cell_type": "markdown",
   "metadata": {},
   "source": [
    "cv2.minEnclosingCircle 函数是 OpenCV 库中的一个函数，用于在图像中找到一个最小外接圆，该圆可以完全包围一个给定的轮廓。</br>这个函数在图像处理和计算机视觉中非常有用，因为它可以帮助我们定位和分析图像中的圆形或接近圆形的对象。"
   ]
  },
  {
   "cell_type": "markdown",
   "metadata": {},
   "source": [
    "参数：</br>\n",
    "- contour：输入轮廓，它是一个由点组成的列表，这些点定义了轮廓的形状。\n",
    "\n",
    "返回值：</br>\n",
    "- (x, y) 和 radius 分别是圆心的坐标和圆的半径"
   ]
  },
  {
   "cell_type": "markdown",
   "metadata": {},
   "source": [
    "##### res = cv2.circle(image, center, radius, color[, thickness[, lineType[, shift]]])"
   ]
  },
  {
   "cell_type": "markdown",
   "metadata": {},
   "source": [
    "cv2.circle 函数是 OpenCV 库中的一个函数，用于在图像上绘制一个圆。</br>这个函数在图像处理和计算机视觉中非常有用，因为它可以帮助我们可视化图像中的特定区域或标记。"
   ]
  },
  {
   "cell_type": "markdown",
   "metadata": {},
   "source": [
    "参数：</br>\n",
    "- image：输入图像，通常是彩色图像。\n",
    "- center：圆心的坐标，格式为 (x, y)。\n",
    "- radius：圆的半径。\n",
    "- color：圆的颜色，它是一个由三个元素组成的元组，分别代表红色、绿色和蓝色的值。\n",
    "- thickness：圆的厚度，可以是以下几种之一：\n",
    "- - cv2.LINE_8：使用8-连通性来绘制圆。\n",
    "- - cv2.LINE_AA：使用抗锯齿的线，适用于低分辨率。\n",
    "- - 正值：表示线宽。\n",
    "- - 负值：表示填充圆，填充的边界由 thickness 指定。\n",
    "- lineType：线型，默认为 cv2.LINE_8。\n",
    "- shift：当使用 32 位图像时，shift 参数指定输出图像的深度，默认为 0。\n",
    "\n",
    "返回值：</br>\n",
    "- 绘制圆后的图像"
   ]
  },
  {
   "cell_type": "markdown",
   "metadata": {},
   "source": [
    "##### 示例"
   ]
  },
  {
   "cell_type": "code",
   "execution_count": 60,
   "metadata": {},
   "outputs": [],
   "source": [
    "(x, y), radius = cv2.minEnclosingCircle(cnt)\n",
    "center = (int(x), int(y))\n",
    "radius = int(radius)\n",
    "img = cv2.circle(img, center, radius, (0, 255, 0), 2)\n",
    "cv_show('', img)"
   ]
  }
 ],
 "metadata": {
  "kernelspec": {
   "display_name": "Python 3",
   "language": "python",
   "name": "python3"
  },
  "language_info": {
   "codemirror_mode": {
    "name": "ipython",
    "version": 3
   },
   "file_extension": ".py",
   "mimetype": "text/x-python",
   "name": "python",
   "nbconvert_exporter": "python",
   "pygments_lexer": "ipython3",
   "version": "3.9.18"
  }
 },
 "nbformat": 4,
 "nbformat_minor": 2
}
